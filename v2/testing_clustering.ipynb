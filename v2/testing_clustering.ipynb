{
 "cells": [
  {
   "cell_type": "markdown",
   "metadata": {},
   "source": [
    "### Clustering using Hash functions\n",
    "Trying to implement strand isolation using purely Hash functions. Want to select the same strands together after signatures using some similarity metric"
   ]
  },
  {
   "cell_type": "code",
   "execution_count": 1,
   "metadata": {},
   "outputs": [],
   "source": [
    "%load_ext autoreload\n",
    "%autoreload 2"
   ]
  },
  {
   "cell_type": "code",
   "execution_count": 48,
   "metadata": {},
   "outputs": [],
   "source": [
    "import numpy as np\n",
    "from aligned_clustering import conduct_align_clustering\n",
    "from utils import get_fastq_records, load_json_file, get_original_strands, get_badread_strand_id, get_recovery_percentage\n",
    "import Levenshtein\n",
    "import random\n",
    "from Levenshtein import ratio\n",
    "from collections import Counter"
   ]
  },
  {
   "cell_type": "code",
   "execution_count": 32,
   "metadata": {},
   "outputs": [],
   "source": [
    "#records_original = get_fastq_records(r\"C:\\Users\\Parv\\Doc\\RA\\Projects\\incomplete_cycles\\v2\\runs\\2025-01-30 21.21.00.463318\\reads_no_adapters.fastq\")\n",
    "records_original = get_fastq_records(r\"C:\\Users\\Parv\\Doc\\RA\\Projects\\incomplete_cycles\\v2\\runs\\2025-01-30 21.21.00.463318\\reads_0.98.fastq\")"
   ]
  },
  {
   "cell_type": "code",
   "execution_count": 33,
   "metadata": {},
   "outputs": [],
   "source": [
    "original_strand_ids, coupling_rates, capping_flags, original_strands = get_original_strands(r\"C:\\Users\\Parv\\Doc\\RA\\Projects\\incomplete_cycles\\v2\\runs\\2025-01-30 21.21.00.463318\\original_strands.txt\")\n",
    "\n",
    "strand_ids_synthesized = load_json_file(r\"C:\\Users\\Parv\\Doc\\RA\\Projects\\incomplete_cycles\\v2\\runs\\2025-01-30 21.21.00.463318\\synthesized_uid_reference.json\")"
   ]
  },
  {
   "cell_type": "code",
   "execution_count": 34,
   "metadata": {},
   "outputs": [],
   "source": [
    "records = [i for i in records_original if get_badread_strand_id(i) in strand_ids_synthesized]\n",
    "sequenced_strands = [str(i.seq) for i in records]\n",
    "strand_ids_sequenced = [get_badread_strand_id(i) for i in records]"
   ]
  },
  {
   "cell_type": "markdown",
   "metadata": {},
   "source": [
    "Levenshtien edit distance works pretty well. That's my metric. Kmeans works for now. I'll bring down junk reads etc, remove adapters, and test it again to see how well aggregation works.\n",
    "Maybe try DBscan with Levenshtien distance"
   ]
  },
  {
   "cell_type": "code",
   "execution_count": 74,
   "metadata": {},
   "outputs": [],
   "source": [
    "pools = {i: [] for i in strand_ids_sequenced}\n",
    "\n",
    "for i in range(len(sequenced_strands)):\n",
    "    for j in range(len(sequenced_strands)):\n",
    "        if not i==j:\n",
    "            if ratio(sequenced_strands[i], sequenced_strands[j]) > 0.95:\n",
    "                pools[strand_ids_sequenced[i]].append(strand_ids_sequenced[j]) \n"
   ]
  },
  {
   "cell_type": "code",
   "execution_count": 75,
   "metadata": {},
   "outputs": [],
   "source": [
    "# We now have the pairwise pools\n",
    "els = []\n",
    "\n",
    "for strand_id in pools:\n",
    "    els.extend(pools[strand_id])\n",
    "    for strand in pools[strand_id]:\n",
    "        els.extend(pools[strand])"
   ]
  },
  {
   "cell_type": "code",
   "execution_count": 59,
   "metadata": {},
   "outputs": [
    {
     "name": "stdout",
     "output_type": "stream",
     "text": [
      "['a4c10e8a-3045-4237-a885-fddd5b7f3819', 'c2e27a94-eac9-4cea-9ac5-98ba051236d7', 'ad1944a8-e640-4dec-a29f-5d50d8c6f595', '41f706b9-e601-438f-91ba-b8e58b5cb67a', '080a78f9-1528-42a5-ac6a-e900541bdcc9', '18a01502-aa11-4d8e-9494-bff2f6a335dc', '72152731-2cb9-42ec-96b1-23042046adda', '2a85710f-751c-4d5c-9304-29d536d7730d', '728f74f4-be75-4cc5-8d25-7712ee4585cb', 'cf1e0c01-df78-48fa-aa27-9c7fcd25498a', 'f74414ce-f7b5-4c08-b1d6-91a7b0763683', 'd5dfbe7b-39ac-42ba-9e64-571baf1ce854', '8ef7df2f-2c17-48ab-b129-6c56d69d1894', '80f279f6-0070-4bdc-b4e7-80a88784ceb9', '23b691fb-2801-4740-870f-80450e1b4efd', '3554ec5a-a737-4ea2-bef6-6158932b10c6', '58f52563-190f-43fb-a967-3878ccf7fad3', 'ec0ad9f1-ec6b-4683-afa6-de9d16f6ce51', 'cacdfcf9-d3ec-4c34-af35-35c7948dd752', '86954dfd-7e1c-47d6-88bf-d30546d93cf2', '4bcc9a3f-f581-4b3a-b5e0-5a56161984ef', '2ff6f2d4-9e00-4aaa-a7cc-c1a0aabb1003', '25ce8541-a9f6-46c2-86a5-faf9c05abfc8', 'b7d71892-3e83-4da7-a54e-5fd49084361e', '7c0eed9d-3666-4cd3-93bc-b0926a946a56', '0a96c740-5b88-4f84-a489-b8128d7f3462', '2c21ce7e-dc4f-4132-b055-29ed8329ae29', 'd2cb7ae6-40d3-477b-8edf-273120c6c889', '9b8bed3b-f95d-4abe-8fb3-713046c74114', 'a3cba9d2-1ab5-429a-ab83-652a7adb340b', 'abc29103-c105-436d-8eb6-52da4bf0e7e2', 'b28e4e0e-095b-4c89-b400-c7e534236d84', '1c47c5e3-a2e8-4c0a-97bc-f0b4b5ae87c8', 'b102a5fc-4157-4709-9a63-2ba858e87b2c', '7292e23b-a9e0-4b72-b02e-cfa183e2724e', '70773bf1-20f6-46e5-8ed6-88faee01edef', '32b2d029-d79d-44c3-838d-78febb890762', '118affe4-847f-4c4f-85bf-050bdf800d2f', '2276f9cb-928c-4417-bbb7-a4dd6b8ed33c', '8060f035-bd8b-4f61-8f96-51381112b9e1', '4301f53d-6f54-47e3-8797-5f9dfd87e399', 'f1c770f3-6524-4787-ac81-aecd48b8cb7e', 'a272d45b-d319-467e-ae76-e5cb513cb89d', '7e83056e-402b-4138-a6b6-2d7520ed20a0', 'a43d781c-b433-4058-a1af-e6fbb3c2ea41', 'dffe26c0-5f79-4bf6-ab5f-d6c60fa212ce', '00bc493a-488e-4ca3-9317-696c2348e4e5', '35e83f13-f601-43be-9dc5-7566977fb592', 'a7b83fd9-122d-46ea-9411-5ca6b3bf3f9a', '400b2596-0815-47a9-97c5-6dc3af3e2982', '044fd42f-9d7a-4b70-a251-cdff520e9bb5', '3e7cdb90-c6d6-46de-aaff-636c4106ce4e', '49d1947c-1805-46ef-a357-e059e3da8e76', '56b904a5-66eb-458f-aef3-0e9cb1369b95', '39e14e1e-154a-4118-9bba-2d70c51427b9', 'ecd717f5-3321-4017-9008-19fc0c164874', 'c737c860-d0fd-469b-b330-0f0376e11996', '908b54d0-fbfc-4068-bd10-188f7c55ae24', 'b1205ac2-bda9-4951-8348-2390ed435196', '7bbbdcbf-8feb-437a-89ae-e9c1bbdb923b', 'f818b652-8435-4c35-a2da-1250d47187e2', '98d1bfe6-e594-47a6-b4ed-751c027a6ba5', 'd5b66c8c-3b97-4ba6-af83-e7f9d4ea6358', '431d3110-8e96-44d2-804a-ec3660d0d066', '4ca83274-693b-4285-b540-a6dc2266fb1d', '8342aa0a-18de-4d46-93cf-17180e33eac7', '29730d8d-4daa-47fa-874f-d9f64b368e79', '5b4f8eb2-21dc-4010-a16f-a9f22306ed97', '76d92690-3321-461a-af33-9d06735b65bc', '5899947a-d9f6-4e91-9637-06619ec00463', '0e44ea93-d333-4d95-9346-25483c4ced6c', '313cde9a-6e54-4d76-9ec4-f647a424b340', '9bf60216-8149-4a42-859c-eaddbeb394d1', '068bba38-3922-455a-b4ed-d7bdaf2806de', '9a791b96-5e6a-40d4-b4bc-1c60d0109e75', '97814fbf-a6ad-487b-b65e-a8a65d80cf37', 'c4316fde-9a55-4590-93d6-cb4c3281eb28', 'b72a90ab-87c4-4644-8de5-b654dff8808f', '5b7a3165-adcc-41f7-b36a-fab847ff74b8', '16f4f472-2880-4701-b82e-c0583663d257', 'abb94c3b-a11e-492c-b03a-ce978496bc25', 'b7b573c3-61b8-466b-925d-8e4c0c00202b', '72003d6b-ff3f-4f19-b1a9-cc397d55b280', '04c635d4-648a-496b-8221-1db373257dd8', '288dc1b1-6825-4794-b6ef-66476e2128d6', 'ddd51899-5dd6-4cb6-b12b-1fc826719bb8', 'ef0443bd-9a40-4ee6-8ed4-8fc2c5265342', '3784178b-d6e2-4f5c-b21b-281ef72b5648', 'da7567d9-d11a-4e29-ad2d-ea8297943e48', 'be9f6760-2657-4ddf-9a1a-678558ce2eb7', 'cc49bae8-8775-47d8-8cf8-6b01cb3c54e5', '07ea48e7-0718-4957-a34f-8cd46c2c0ecf', 'e19be512-171b-4c22-8821-4512e7cd0b91', '754dce75-cd71-458e-b7c4-a87dd758f3b1', '0aabdc39-5fd5-4101-9f66-3869c05e10cd', '8e25ff20-a7d9-4e3d-9772-db0ff32f9695', 'd15d083a-ab20-47df-abfe-9fa065dc391c', 'fdcf2a39-aa3c-46be-bc06-37efd6f45483', '64175fee-f96a-4caf-bccd-be6276d2c9bf', 'c217a79f-25f9-4cbb-bb5d-c471f3fe9021', 'c2d3457e-6852-456f-b06e-06c0d699ac7e', 'edb2e88c-167a-4181-946b-de8948abe32a', 'b4903596-deee-4451-99ca-bf5f979399cb', '70610821-bb08-4334-a20f-6ba7a4a4a49d', '49770194-f327-4bef-92fa-f5b9fd6a40d7', 'aa3ced46-de43-4827-9d55-d543f4783c35', 'f2350b1b-2d0b-40e2-9a33-4a83839eafde', 'b6111ada-9d58-414e-ac8c-88b2f2fff56f', 'eb98ecbb-d934-4c9e-875c-26208e46f48f', '27220bf0-2f82-41cc-b6c6-88650f734f4c', '39303f71-0434-489c-9748-6246f2359340', '340397f6-c474-4e1e-93f2-9fbe1d246527', '22ae85ed-9567-472e-ba6e-f022dc931b77', '250a0277-a3b9-456e-9c40-77a8088a5008', 'fbf9f97b-b56e-4090-9029-954970395cca', 'e81b89f7-d7a2-4c66-8955-8241be651b29', 'cc5ab157-647b-4639-b1fd-d8e6a3b082b0', '81182866-9706-4d65-b5f9-0a991108c45a', '42faeb97-8a4b-4390-bf63-a3a55603bf9d', 'c100868f-d541-4727-a431-3cf7e817d3f8', '23a97d73-767f-4f5b-9287-e3d8923ccbf7', '7f4cc66b-660e-4b58-8ae4-4997b33da598', '2266e02f-f30a-4611-a817-29580a1c2cf5', '2b5ef6bf-8e76-4299-8d34-ab6799051c42', '401260aa-49d2-48af-b099-62829536c3bc', 'd7b0b44a-c898-4b56-8951-ca713bdb54bc', '4b49bc37-9666-45de-b5b3-a34870ddde92', 'ee1df276-d607-438b-831f-b6e9dbbf2cb9', 'b080a988-cbf1-4baa-96a7-24b2ec27074f', 'd6154d11-124c-48f4-b9df-29222c46416d', '1c5a4dfc-82aa-49ac-b4fc-2db92d21b955', 'afa4ba48-ff76-4438-8e8b-cc7a4056f148', '02150ce2-b7e4-44bf-8f20-f05b4cefaf12', '4eac3ed6-3953-4a88-a2a9-2ab70c77ea61', '2006c2e2-56f6-4941-8007-44ec02f0206e', '559bc867-2fd6-4cd2-a2c7-18b2f018a84d', 'b7820d35-1c53-4c43-b697-5e42fe479827', '8e842edb-be21-49b6-8205-857159b5e17f', 'dec60537-735c-4461-87a9-71d96a58fcdc', '15d161d0-4947-4d83-9349-1bfe172279af', '1ef414be-454b-4e1d-8a23-7aebcaca7292', 'dc17888b-0892-473f-9e0f-9c77022e7a56', '3ae252e7-c66c-4315-9670-301bfd2d5744', '8a43dbb1-e825-47a2-9d6c-6d77c9d0ce60', '44fe4099-5371-4fdc-afa3-636163ce3f7d', 'f2f89c30-d452-401a-b6b1-71e9ac641b79', 'a15861d5-6994-4305-a791-96fe0d283aa2', 'e2a1c21f-6e42-4394-9cf7-fa0f8ec7613f', '2ffea478-811b-4dc5-876c-1dccdf07fa30', '39f510a0-7b22-447f-b186-5c18489fc4d6', '187f71cc-b03b-4ddd-a2cb-98174e4bebe2', '67f7592d-50e2-467d-970d-25999d2f264b', '859934a7-6f87-4daa-bf6c-5e02c4b6cd0f', 'fee4a0fe-3f01-40da-9c19-f1fcd297dc82', '313d788a-9ff7-4ae4-a46e-738fe7659953', 'a189341a-5695-4921-aa17-6eab272e68f9', 'dd0fa07f-cd4f-42cb-aed0-580e81025263', 'fc6abfd2-75cf-4587-a1b0-2401cc0530f6', 'e829b7d8-e4cf-4e68-be26-fef1ecc5675e', '89c08ebe-2233-43cc-93c2-503fd30e1263', '04a0464b-96c7-4eb3-96f6-c8ee07775822', '7110340b-9552-4a8c-a55d-51f778bbec6a', 'ea8ec6dc-015a-4523-848c-cbb5e0fa9e17', 'fb3277de-693f-4782-8436-3b10023f47e1', '49dcbe5a-f8fb-4b4d-a4f4-3d77a407bb3e', 'fd6ced65-691a-446e-9317-a718cbc39c08', '7bcc937f-e1df-4ab4-bf1e-6bfb2f23df46', 'be9482d4-ed89-441c-bcf8-8c7b9b006a09', '66034195-9bb0-44ba-b63f-fdbf87d6bee9', 'e7e3cbbf-b474-41c6-8b45-ce069c848581', '2342e681-b407-414f-a47c-d020f9dc6d05', '296efdb0-06b4-4f5e-8e48-6a466f3aad4e', '8945c3bb-81d7-48fa-bf67-69829e3dbe37', '51d359b2-1aed-497f-b617-eea03f934e08', 'e202b92b-d5c6-4a38-8ddf-b255ad4285e2', '80950f2e-98c7-413d-8668-482d74b5f076', '7bfea88c-8fbb-4844-afe0-7413edcdd179', '1e5b8109-50c6-48ea-a42b-128f437d43ec', 'f8d9e60d-740e-4ded-ad75-bc3dd61fcda6', 'a8a613f5-8216-4035-aa1b-30ddc561a0f5', '93120761-e0e0-4e67-a11d-1c149bc8004a', '27feb946-4896-440e-a3f5-10d612cab7a3', 'cc805b10-a285-4434-92d5-9e781d8888b0', '95fc4f87-91f1-4385-ac04-264b5775622c', '77bc6685-c91e-4ed6-9412-6f5af678c2db', 'bac92d60-bd86-4ee5-96f8-084473da0613', '4e96f5b1-03d5-4510-b962-afd3357540b3', 'c3fbd97c-ae21-4ca5-a445-e252fbe94427', '9f69cc17-74ef-436a-ac7e-16d4f1692fda', 'ba718181-ff15-44a8-87f7-a5b77f24832a', '06298b95-f39e-4404-b7b0-f04199f2167d', '63e9587e-4487-451f-b827-16c3fe0c8301', 'f3e38f3d-1eb5-4726-818e-ef88d1e747e7', '65b66dc8-5b8c-481b-bbaa-bbab4f6fc56c', '4461a463-048b-449e-b1b7-9cdcdc01aac7', '0f167dfb-fb1f-4d48-a37b-3cb125a47106', 'f6eb7caf-722b-4398-9b45-f7b33b672846', '5fc79431-ddfd-4bbe-80fd-c3b4c3920f2f', '4b4521cc-95f7-47f6-9810-591aa8276e5a', '6e1f822a-b65e-47fb-a95f-dc062b321450', 'cd8fff05-a198-46ea-8b97-79295428b2af', '95c646aa-8936-409e-9657-7ba445d71929', '1dde386b-3f7e-407b-8b6a-210ed381b629', 'dab86e30-a387-463b-b41c-92978d04a604', 'df68d4c0-e838-4a81-bae1-d97d7a2e227b', 'fcde4638-a588-4fde-9650-9f68f1ef0537', '02abb68b-749a-467b-b748-720df3f5f70c', '5afd4e5b-28d2-41d0-ad99-dee55ab06a07', 'e2cd97d1-dcec-4ca4-b4fc-180494e6cdeb', '3a1b6b6d-1fd3-4e1d-a1e7-cec3d6a6433a', '072ba813-1ccc-45fb-99be-971a72a08e49', '9dec90f0-02c7-4289-9c00-24a9e8424744', '0b0db793-2cf8-4127-91e9-4d18863245c3', '893e007f-58ab-4ca0-9868-a0522bbb8869', '3d8208bb-7aec-4f56-a3c3-9aeda36477ab', 'b3f7b1c6-4fde-4a09-8b2d-75609bf7d26e', 'b73d4239-2b8b-44cf-a4cc-e75efae32a60', '12cf8b28-2e24-468c-8647-49fac3138dde', '7c2e7d53-09fa-4316-95cc-02284965fcf8']\n"
     ]
    }
   ],
   "source": [
    "print(els)"
   ]
  },
  {
   "cell_type": "code",
   "execution_count": null,
   "metadata": {},
   "outputs": [],
   "source": [
    "from sklearn_extra.cluster import KMedoids\n",
    "\n",
    "# Choose the number of clusters (k)\n",
    "k = 3\n",
    "\n",
    "# Run k-medoids\n",
    "kmedoids = KMedoids(n_clusters=k, metric=\"precomputed\", random_state=42)\n",
    "labels = kmedoids.fit_predict(levenshtein_matrix)\n",
    "\n",
    "print(labels)  # Cluster assignments"
   ]
  }
 ],
 "metadata": {
  "kernelspec": {
   "display_name": "pytorch_gpu",
   "language": "python",
   "name": "python3"
  },
  "language_info": {
   "codemirror_mode": {
    "name": "ipython",
    "version": 3
   },
   "file_extension": ".py",
   "mimetype": "text/x-python",
   "name": "python",
   "nbconvert_exporter": "python",
   "pygments_lexer": "ipython3",
   "version": "3.12.3"
  }
 },
 "nbformat": 4,
 "nbformat_minor": 2
}
