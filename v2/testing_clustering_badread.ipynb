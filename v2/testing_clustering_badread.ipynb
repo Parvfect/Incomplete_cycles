{
 "cells": [
  {
   "cell_type": "code",
   "execution_count": 36,
   "metadata": {},
   "outputs": [
    {
     "name": "stderr",
     "output_type": "stream",
     "text": [
      "DEPRECATION: Loading egg at c:\\users\\parv\\anaconda3\\envs\\pytorch_gpu\\lib\\site-packages\\ont_bonito-0.8.1-py3.12.egg is deprecated. pip 24.3 will enforce this behaviour change. A possible replacement is to use pip for package installation.. Discussion can be found at https://github.com/pypa/pip/issues/12330\n"
     ]
    },
    {
     "name": "stdout",
     "output_type": "stream",
     "text": [
      "Collecting nltk\n",
      "  Downloading nltk-3.9.1-py3-none-any.whl.metadata (2.9 kB)\n",
      "Collecting click (from nltk)\n",
      "  Downloading click-8.1.8-py3-none-any.whl.metadata (2.3 kB)\n",
      "Requirement already satisfied: joblib in c:\\users\\parv\\anaconda3\\envs\\pytorch_gpu\\lib\\site-packages (from nltk) (1.4.2)\n",
      "Collecting regex>=2021.8.3 (from nltk)\n",
      "  Downloading regex-2024.11.6-cp312-cp312-win_amd64.whl.metadata (41 kB)\n",
      "     ---------------------------------------- 0.0/41.5 kB ? eta -:--:--\n",
      "     ------------------ ------------------- 20.5/41.5 kB 640.0 kB/s eta 0:00:01\n",
      "     -------------------------------------- 41.5/41.5 kB 666.1 kB/s eta 0:00:00\n",
      "Requirement already satisfied: tqdm in c:\\users\\parv\\anaconda3\\envs\\pytorch_gpu\\lib\\site-packages (from nltk) (4.66.4)\n",
      "Requirement already satisfied: colorama in c:\\users\\parv\\anaconda3\\envs\\pytorch_gpu\\lib\\site-packages (from click->nltk) (0.4.6)\n",
      "Downloading nltk-3.9.1-py3-none-any.whl (1.5 MB)\n",
      "   ---------------------------------------- 0.0/1.5 MB ? eta -:--:--\n",
      "   -- ------------------------------------- 0.1/1.5 MB 5.5 MB/s eta 0:00:01\n",
      "   -------- ------------------------------- 0.3/1.5 MB 3.8 MB/s eta 0:00:01\n",
      "   --------------- ------------------------ 0.6/1.5 MB 4.7 MB/s eta 0:00:01\n",
      "   ----------------- ---------------------- 0.7/1.5 MB 4.7 MB/s eta 0:00:01\n",
      "   ------------------------ --------------- 0.9/1.5 MB 4.1 MB/s eta 0:00:01\n",
      "   ---------------------------- ----------- 1.1/1.5 MB 4.3 MB/s eta 0:00:01\n",
      "   ----------------------------------- ---- 1.3/1.5 MB 4.2 MB/s eta 0:00:01\n",
      "   ---------------------------------------  1.5/1.5 MB 4.4 MB/s eta 0:00:01\n",
      "   ---------------------------------------- 1.5/1.5 MB 4.2 MB/s eta 0:00:00\n",
      "Downloading regex-2024.11.6-cp312-cp312-win_amd64.whl (273 kB)\n",
      "   ---------------------------------------- 0.0/273.6 kB ? eta -:--:--\n",
      "   ------------------------- -------------- 174.1/273.6 kB 3.5 MB/s eta 0:00:01\n",
      "   ---------------------------------------- 273.6/273.6 kB 4.2 MB/s eta 0:00:00\n",
      "Downloading click-8.1.8-py3-none-any.whl (98 kB)\n",
      "   ---------------------------------------- 0.0/98.2 kB ? eta -:--:--\n",
      "   ---------------------------------------- 98.2/98.2 kB 2.8 MB/s eta 0:00:00\n",
      "Installing collected packages: regex, click, nltk\n",
      "Successfully installed click-8.1.8 nltk-3.9.1 regex-2024.11.6\n"
     ]
    }
   ],
   "source": [
    "!pip install nltk\n",
    "import nltk"
   ]
  },
  {
   "cell_type": "code",
   "execution_count": null,
   "metadata": {},
   "outputs": [
    {
     "ename": "ModuleNotFoundError",
     "evalue": "No module named 'nltk'",
     "output_type": "error",
     "traceback": [
      "\u001b[1;31m---------------------------------------------------------------------------\u001b[0m",
      "\u001b[1;31mModuleNotFoundError\u001b[0m                       Traceback (most recent call last)",
      "Cell \u001b[1;32mIn[35], line 11\u001b[0m\n\u001b[0;32m      9\u001b[0m \u001b[38;5;28;01mimport\u001b[39;00m \u001b[38;5;21;01muuid\u001b[39;00m\n\u001b[0;32m     10\u001b[0m \u001b[38;5;28;01mimport\u001b[39;00m \u001b[38;5;21;01mjson\u001b[39;00m\n\u001b[1;32m---> 11\u001b[0m \u001b[38;5;28;01mimport\u001b[39;00m \u001b[38;5;21;01mnltk\u001b[39;00m\n\u001b[0;32m     13\u001b[0m get_ipython()\u001b[38;5;241m.\u001b[39mrun_line_magic(\u001b[38;5;124m'\u001b[39m\u001b[38;5;124mload_ext\u001b[39m\u001b[38;5;124m'\u001b[39m, \u001b[38;5;124m'\u001b[39m\u001b[38;5;124mautoreload\u001b[39m\u001b[38;5;124m'\u001b[39m)\n\u001b[0;32m     14\u001b[0m get_ipython()\u001b[38;5;241m.\u001b[39mrun_line_magic(\u001b[38;5;124m'\u001b[39m\u001b[38;5;124mautoreload\u001b[39m\u001b[38;5;124m'\u001b[39m, \u001b[38;5;124m'\u001b[39m\u001b[38;5;124m2\u001b[39m\u001b[38;5;124m'\u001b[39m)\n",
      "\u001b[1;31mModuleNotFoundError\u001b[0m: No module named 'nltk'"
     ]
    }
   ],
   "source": [
    "from Bio import SeqIO\n",
    "from seq_stat import align\n",
    "from tqdm.notebook import tqdm\n",
    "import pandas as pd\n",
    "import numpy as np\n",
    "from aligned_clustering import conduct_align_clustering\n",
    "from utils import get_original_strands, read_synthesized_strands_from_file, get_recovery_percentage, create_random_strand\n",
    "import random\n",
    "import uuid\n",
    "import json\n",
    "\n",
    "%load_ext autoreload\n",
    "%autoreload 2"
   ]
  },
  {
   "cell_type": "code",
   "execution_count": 9,
   "metadata": {},
   "outputs": [],
   "source": [
    "\n",
    "original_strands = get_original_strands(\n",
    "    original_strand_filepath=r\"C:\\Users\\Parv\\Doc\\RA\\Projects\\incomplete_cycles\\data\\0.8_badread\\original_strands.txt\",\n",
    "    plain=True)\n",
    "\n",
    "with open(r\"C:\\Users\\Parv\\Doc\\RA\\Projects\\incomplete_cycles\\data\\0.8_badread\\recoveries_455e44d8-7f89-4dc3-8ca7-499b2f0e33d6.json\", 'r') as f:\n",
    "    recoveries = json.load(f)\n",
    "\n",
    "candidates = recoveries['candidates']"
   ]
  },
  {
   "cell_type": "markdown",
   "metadata": {},
   "source": [
    "Let us fix it for a single strand - first aligned recovery - unique set of candidates please"
   ]
  },
  {
   "cell_type": "code",
   "execution_count": 41,
   "metadata": {},
   "outputs": [
    {
     "data": {
      "application/vnd.jupyter.widget-view+json": {
       "model_id": "7b8af164e4074494bf9cc29675ae9bbe",
       "version_major": 2,
       "version_minor": 0
      },
      "text/plain": [
       "  0%|          | 0/10 [00:00<?, ?it/s]"
      ]
     },
     "metadata": {},
     "output_type": "display_data"
    },
    {
     "data": {
      "application/vnd.jupyter.widget-view+json": {
       "model_id": "0b3a1e6ff9814e478a5bdc4349e5f140",
       "version_major": 2,
       "version_minor": 0
      },
      "text/plain": [
       "  0%|          | 0/26241 [00:00<?, ?it/s]"
      ]
     },
     "metadata": {},
     "output_type": "display_data"
    },
    {
     "name": "stdout",
     "output_type": "stream",
     "text": [
      "Best recovery protected strand post alignment - 0.95\n",
      "Best recovery control post alignment - 0.7916666666666666\n"
     ]
    },
    {
     "data": {
      "application/vnd.jupyter.widget-view+json": {
       "model_id": "d110983c2bc9478ca6e505622686d798",
       "version_major": 2,
       "version_minor": 0
      },
      "text/plain": [
       "  0%|          | 0/26241 [00:00<?, ?it/s]"
      ]
     },
     "metadata": {},
     "output_type": "display_data"
    },
    {
     "name": "stdout",
     "output_type": "stream",
     "text": [
      "Best recovery protected strand post alignment - 1.0\n",
      "Best recovery control post alignment - 0.782608695652174\n"
     ]
    },
    {
     "data": {
      "application/vnd.jupyter.widget-view+json": {
       "model_id": "015447c081b04f9ab4c53eb6148b837d",
       "version_major": 2,
       "version_minor": 0
      },
      "text/plain": [
       "  0%|          | 0/26241 [00:00<?, ?it/s]"
      ]
     },
     "metadata": {},
     "output_type": "display_data"
    },
    {
     "name": "stdout",
     "output_type": "stream",
     "text": [
      "Best recovery protected strand post alignment - 1.0\n",
      "Best recovery control post alignment - 0.7916666666666666\n"
     ]
    },
    {
     "data": {
      "application/vnd.jupyter.widget-view+json": {
       "model_id": "94243ae752c24154827eb235db7f4826",
       "version_major": 2,
       "version_minor": 0
      },
      "text/plain": [
       "  0%|          | 0/26241 [00:00<?, ?it/s]"
      ]
     },
     "metadata": {},
     "output_type": "display_data"
    },
    {
     "name": "stdout",
     "output_type": "stream",
     "text": [
      "Best recovery protected strand post alignment - 1.0\n",
      "Best recovery control post alignment - 0.7307692307692307\n"
     ]
    },
    {
     "data": {
      "application/vnd.jupyter.widget-view+json": {
       "model_id": "0d54bf730e494c87b179b48601e233a9",
       "version_major": 2,
       "version_minor": 0
      },
      "text/plain": [
       "  0%|          | 0/26241 [00:00<?, ?it/s]"
      ]
     },
     "metadata": {},
     "output_type": "display_data"
    },
    {
     "name": "stdout",
     "output_type": "stream",
     "text": [
      "Best recovery protected strand post alignment - 1.0\n",
      "Best recovery control post alignment - 0.75\n"
     ]
    },
    {
     "data": {
      "application/vnd.jupyter.widget-view+json": {
       "model_id": "a06878cb14cc4faf80c0cc5fda87f4ce",
       "version_major": 2,
       "version_minor": 0
      },
      "text/plain": [
       "  0%|          | 0/26241 [00:00<?, ?it/s]"
      ]
     },
     "metadata": {},
     "output_type": "display_data"
    },
    {
     "ename": "KeyboardInterrupt",
     "evalue": "",
     "output_type": "error",
     "traceback": [
      "\u001b[1;31m---------------------------------------------------------------------------\u001b[0m",
      "\u001b[1;31mKeyboardInterrupt\u001b[0m                         Traceback (most recent call last)",
      "Cell \u001b[1;32mIn[41], line 26\u001b[0m\n\u001b[0;32m     23\u001b[0m \u001b[38;5;28;01mif\u001b[39;00m identity \u001b[38;5;241m>\u001b[39m best_recovery_protected:\n\u001b[0;32m     24\u001b[0m     best_recovery_protected \u001b[38;5;241m=\u001b[39m identity\n\u001b[1;32m---> 26\u001b[0m aligned_strand, identity, indices \u001b[38;5;241m=\u001b[39m \u001b[43malign\u001b[49m\u001b[43m(\u001b[49m\u001b[43mseqA\u001b[49m\u001b[38;5;241;43m=\u001b[39;49m\u001b[43mrandom_strand\u001b[49m\u001b[43m,\u001b[49m\u001b[43m \u001b[49m\u001b[43mseqB\u001b[49m\u001b[38;5;241;43m=\u001b[39;49m\u001b[43mcandidate\u001b[49m\u001b[43m)\u001b[49m\n\u001b[0;32m     27\u001b[0m random_recs_local\u001b[38;5;241m.\u001b[39mappend(identity)\n\u001b[0;32m     29\u001b[0m \u001b[38;5;28;01mif\u001b[39;00m identity \u001b[38;5;241m>\u001b[39m best_recovery_control:\n",
      "File \u001b[1;32mc:\\Users\\Parv\\Doc\\RA\\Projects\\incomplete_cycles\\v2\\seq_stat.py:234\u001b[0m, in \u001b[0;36malign\u001b[1;34m(seqA, seqB)\u001b[0m\n\u001b[0;32m    232\u001b[0m query_line \u001b[38;5;241m=\u001b[39m \u001b[38;5;124m\"\u001b[39m\u001b[38;5;124m\"\u001b[39m\u001b[38;5;241m.\u001b[39mjoin([line\u001b[38;5;241m.\u001b[39msplit(\u001b[38;5;124m\"\u001b[39m\u001b[38;5;124mquery\u001b[39m\u001b[38;5;124m\"\u001b[39m)[\u001b[38;5;241m1\u001b[39m] \u001b[38;5;28;01mfor\u001b[39;00m line \u001b[38;5;129;01min\u001b[39;00m alignment_lines \u001b[38;5;28;01mif\u001b[39;00m line\u001b[38;5;241m.\u001b[39mstrip()\u001b[38;5;241m.\u001b[39mstartswith(\u001b[38;5;124m\"\u001b[39m\u001b[38;5;124mquery\u001b[39m\u001b[38;5;124m\"\u001b[39m)])\n\u001b[0;32m    233\u001b[0m query \u001b[38;5;241m=\u001b[39m re\u001b[38;5;241m.\u001b[39msub(pattern, \u001b[38;5;124m\"\u001b[39m\u001b[38;5;124m\"\u001b[39m, query_line)\n\u001b[1;32m--> 234\u001b[0m identities \u001b[38;5;241m=\u001b[39m \u001b[43malignment\u001b[49m\u001b[38;5;241;43m.\u001b[39;49m\u001b[43mcounts\u001b[49m\u001b[43m(\u001b[49m\u001b[43m)\u001b[49m[\u001b[38;5;241m1\u001b[39m]\n\u001b[0;32m    235\u001b[0m mismatches \u001b[38;5;241m=\u001b[39m alignment\u001b[38;5;241m.\u001b[39mcounts()[\u001b[38;5;241m2\u001b[39m]\n\u001b[0;32m    236\u001b[0m length \u001b[38;5;241m=\u001b[39m alignment\u001b[38;5;241m.\u001b[39mlength\n",
      "File \u001b[1;32mc:\\Users\\Parv\\anaconda3\\envs\\pytorch_gpu\\Lib\\site-packages\\Bio\\Align\\__init__.py:3578\u001b[0m, in \u001b[0;36mAlignment.counts\u001b[1;34m(self)\u001b[0m\n\u001b[0;32m   3576\u001b[0m gaps \u001b[38;5;241m=\u001b[39m identities \u001b[38;5;241m=\u001b[39m mismatches \u001b[38;5;241m=\u001b[39m \u001b[38;5;241m0\u001b[39m\n\u001b[0;32m   3577\u001b[0m \u001b[38;5;28;01mfor\u001b[39;00m i, seq1 \u001b[38;5;129;01min\u001b[39;00m \u001b[38;5;28menumerate\u001b[39m(\u001b[38;5;28mself\u001b[39m):\n\u001b[1;32m-> 3578\u001b[0m \u001b[43m    \u001b[49m\u001b[38;5;28;43;01mfor\u001b[39;49;00m\u001b[43m \u001b[49m\u001b[43mj\u001b[49m\u001b[43m,\u001b[49m\u001b[43m \u001b[49m\u001b[43mseq2\u001b[49m\u001b[43m \u001b[49m\u001b[38;5;129;43;01min\u001b[39;49;00m\u001b[43m \u001b[49m\u001b[38;5;28;43menumerate\u001b[39;49m\u001b[43m(\u001b[49m\u001b[38;5;28;43mself\u001b[39;49m\u001b[43m)\u001b[49m\u001b[43m:\u001b[49m\n\u001b[0;32m   3579\u001b[0m \u001b[43m        \u001b[49m\u001b[38;5;28;43;01mif\u001b[39;49;00m\u001b[43m \u001b[49m\u001b[43mi\u001b[49m\u001b[43m \u001b[49m\u001b[38;5;241;43m==\u001b[39;49m\u001b[43m \u001b[49m\u001b[43mj\u001b[49m\u001b[43m:\u001b[49m\n\u001b[0;32m   3580\u001b[0m \u001b[43m            \u001b[49m\u001b[38;5;66;43;03m# Don't count seq1 vs seq2 and seq2 vs seq1\u001b[39;49;00m\n\u001b[0;32m   3581\u001b[0m \u001b[43m            \u001b[49m\u001b[38;5;28;43;01mbreak\u001b[39;49;00m\n",
      "File \u001b[1;32mc:\\Users\\Parv\\anaconda3\\envs\\pytorch_gpu\\Lib\\site-packages\\Bio\\Align\\__init__.py:2067\u001b[0m, in \u001b[0;36mAlignment.__getitem__\u001b[1;34m(self, key)\u001b[0m\n\u001b[0;32m   1967\u001b[0m \u001b[38;5;250m\u001b[39m\u001b[38;5;124;03m\"\"\"Return self[key].\u001b[39;00m\n\u001b[0;32m   1968\u001b[0m \n\u001b[0;32m   1969\u001b[0m \u001b[38;5;124;03mIndices of the form\u001b[39;00m\n\u001b[1;32m   (...)\u001b[0m\n\u001b[0;32m   2064\u001b[0m \u001b[38;5;124;03m<BLANKLINE>\u001b[39;00m\n\u001b[0;32m   2065\u001b[0m \u001b[38;5;124;03m\"\"\"\u001b[39;00m\n\u001b[0;32m   2066\u001b[0m \u001b[38;5;28;01mif\u001b[39;00m \u001b[38;5;28misinstance\u001b[39m(key, numbers\u001b[38;5;241m.\u001b[39mIntegral):\n\u001b[1;32m-> 2067\u001b[0m     \u001b[38;5;28;01mreturn\u001b[39;00m \u001b[38;5;28;43mself\u001b[39;49m\u001b[38;5;241;43m.\u001b[39;49m\u001b[43m_get_row\u001b[49m\u001b[43m(\u001b[49m\u001b[43mkey\u001b[49m\u001b[43m)\u001b[49m\n\u001b[0;32m   2068\u001b[0m \u001b[38;5;28;01mif\u001b[39;00m \u001b[38;5;28misinstance\u001b[39m(key, \u001b[38;5;28mslice\u001b[39m):\n\u001b[0;32m   2069\u001b[0m     \u001b[38;5;28;01mreturn\u001b[39;00m \u001b[38;5;28mself\u001b[39m\u001b[38;5;241m.\u001b[39m_get_rows(key)\n",
      "File \u001b[1;32mc:\\Users\\Parv\\anaconda3\\envs\\pytorch_gpu\\Lib\\site-packages\\Bio\\Align\\__init__.py:1609\u001b[0m, in \u001b[0;36mAlignment._get_row\u001b[1;34m(self, index)\u001b[0m\n\u001b[0;32m   1607\u001b[0m \u001b[38;5;28;01mfor\u001b[39;00m i \u001b[38;5;129;01min\u001b[39;00m \u001b[38;5;28mrange\u001b[39m(n):\n\u001b[0;32m   1608\u001b[0m     aligned_steps \u001b[38;5;241m=\u001b[39m steps[i, aligned]\n\u001b[1;32m-> 1609\u001b[0m     \u001b[38;5;28;01mif\u001b[39;00m \u001b[38;5;28;43msum\u001b[39;49m\u001b[43m(\u001b[49m\u001b[43maligned_steps\u001b[49m\u001b[43m \u001b[49m\u001b[38;5;241;43m>\u001b[39;49m\u001b[43m \u001b[49m\u001b[38;5;241;43m0\u001b[39;49m\u001b[43m)\u001b[49m \u001b[38;5;241m<\u001b[39m \u001b[38;5;28msum\u001b[39m(aligned_steps \u001b[38;5;241m<\u001b[39m \u001b[38;5;241m0\u001b[39m):\n\u001b[0;32m   1610\u001b[0m         steps[i, :] \u001b[38;5;241m=\u001b[39m \u001b[38;5;241m-\u001b[39msteps[i, :]\n\u001b[0;32m   1611\u001b[0m         \u001b[38;5;28;01mif\u001b[39;00m i \u001b[38;5;241m==\u001b[39m index:\n",
      "\u001b[1;31mKeyboardInterrupt\u001b[0m: "
     ]
    }
   ],
   "source": [
    "protected_length = 20\n",
    "original_strand = original_strands[0]\n",
    "\n",
    "best_recovery = 0.0\n",
    "\n",
    "best_recs_protected = []\n",
    "best_recs_control = []\n",
    "protected_recs = [[]]\n",
    "random_recs = [[]]\n",
    "\n",
    "for original_strand in tqdm(original_strands):\n",
    "    start_indice = random.randint(0,170)\n",
    "    random_strand = create_random_strand(strand_length=protected_length)\n",
    "    best_recovery_protected = 0.0\n",
    "    best_recovery_control = 0.0\n",
    "    protected_recs_local = []\n",
    "    random_recs_local = []\n",
    "    for candidate in tqdm(candidates):\n",
    "        \n",
    "        aligned_strand, identity, indices = align(seqA=original_strand[start_indice:start_indice + protected_length], seqB=candidate)\n",
    "        protected_recs_local.append(identity)\n",
    "\n",
    "        if identity > best_recovery_protected:\n",
    "            best_recovery_protected = identity\n",
    "\n",
    "        aligned_strand, identity, indices = align(seqA=random_strand, seqB=candidate)\n",
    "        random_recs_local.append(identity)\n",
    "\n",
    "        if identity > best_recovery_control:\n",
    "            best_recovery_control = identity\n",
    "\n",
    "    print(f\"Best recovery protected strand post alignment - {best_recovery_protected}\")\n",
    "    print(f\"Best recovery control post alignment - {best_recovery_control}\")\n",
    "    best_recs_protected.append(best_recovery_protected)\n",
    "    best_recs_control.append(best_recovery_control)\n",
    "    protected_recs.append(protected_recs_local)\n",
    "    random_recs.append(random_recs_local)"
   ]
  },
  {
   "cell_type": "markdown",
   "metadata": {},
   "source": [
    "Test for random collisions. First test how we do at recovering 20 bases at a time that are randomly alloted for each original strand. Repeat that a few times (just for the first five coupling rates). And then we think about random collisions. Maybe a part of the other strand, ah cause it will match a lot as well, so within the whole candidate pool, how would you know which is which?"
   ]
  },
  {
   "cell_type": "code",
   "execution_count": 53,
   "metadata": {},
   "outputs": [
    {
     "data": {
      "text/plain": [
       "(array([3.740e+02, 4.577e+03, 9.793e+03, 6.214e+03, 3.361e+03, 1.491e+03,\n",
       "        3.200e+02, 8.600e+01, 2.000e+01, 5.000e+00]),\n",
       " array([0.2247191 , 0.28141386, 0.33810861, 0.39480337, 0.45149813,\n",
       "        0.50819288, 0.56488764, 0.6215824 , 0.67827715, 0.73497191,\n",
       "        0.79166667]),\n",
       " <BarContainer object of 10 artists>)"
      ]
     },
     "execution_count": 53,
     "metadata": {},
     "output_type": "execute_result"
    },
    {
     "data": {
      "image/png": "[encoded data removed]",
      "text/plain": [
       "<Figure size 640x480 with 1 Axes>"
      ]
     },
     "metadata": {},
     "output_type": "display_data"
    }
   ],
   "source": [
    "import matplotlib.pyplot as plt\n",
    "\n",
    "plt.hist(protected_recs[1])\n",
    "plt.hist(random_recs[1])"
   ]
  },
  {
   "cell_type": "code",
   "execution_count": 65,
   "metadata": {},
   "outputs": [],
   "source": [
    "protected_recs_filtered = [i for i in protected_recs[1] if i > 0.70]\n",
    "control_recs_filtered = [i for i in random_recs[1] if i > 0.70]"
   ]
  },
  {
   "cell_type": "code",
   "execution_count": 66,
   "metadata": {},
   "outputs": [
    {
     "data": {
      "text/plain": [
       "<matplotlib.legend.Legend at 0x1d6f350b860>"
      ]
     },
     "execution_count": 66,
     "metadata": {},
     "output_type": "execute_result"
    },
    {
     "data": {
      "image/png": "[encoded data removed]",
      "text/plain": [
       "<Figure size 640x480 with 1 Axes>"
      ]
     },
     "metadata": {},
     "output_type": "display_data"
    }
   ],
   "source": [
    "plt.hist(protected_recs_filtered, label=\"protected strand\")\n",
    "plt.hist(control_recs_filtered, label=\"control strand\")\n",
    "plt.legend()"
   ]
  },
  {
   "cell_type": "code",
   "execution_count": 68,
   "metadata": {},
   "outputs": [],
   "source": [
    "# some metric here to compare to random strands - collision would not happen - we are actually seeing something useful\n",
    "# Indicator that yes - here is this thing, frequency of candidates - need to understand usecase.\n",
    "# Formalize and understand\n"
   ]
  },
  {
   "cell_type": "code",
   "execution_count": 69,
   "metadata": {},
   "outputs": [],
   "source": [
    "# % of candidates over threshold value for protected strand vs control - and then the average recovery of 1.0"
   ]
  },
  {
   "cell_type": "code",
   "execution_count": null,
   "metadata": {},
   "outputs": [],
   "source": [
    "import numpy as np\n",
    "import matplotlib.pyplot as plt\n",
    "\n",
    "# Sample array\n",
    "array = np.random.randint(0, 100, 100)  # Example array with values between 0 and 100\n",
    "\n",
    "# Define thresholds\n",
    "thresholds = np.linspace(0, np.max(array), 100)  # Create 100 threshold values from 0 to max\n",
    "\n",
    "# Calculate the percentage of values above each threshold\n",
    "percentages = [(np.sum(array > t) / len(array)) * 100 for t in thresholds]\n",
    "\n",
    "# Plot the graph\n",
    "plt.figure(figsize=(8, 5))\n",
    "plt.plot(thresholds, percentages, label=\"Percentage of values > threshold\")\n",
    "plt.xlabel(\"Threshold\")\n",
    "plt.ylabel(\"Percentage\")\n",
    "plt.title(\"Percentage of Array Values Greater Than Threshold\")\n",
    "plt.grid()\n",
    "plt.legend()\n",
    "plt.show()"
   ]
  }
 ],
 "metadata": {
  "kernelspec": {
   "display_name": "pytorch_gpu",
   "language": "python",
   "name": "python3"
  },
  "language_info": {
   "codemirror_mode": {
    "name": "ipython",
    "version": 3
   },
   "file_extension": ".py",
   "mimetype": "text/x-python",
   "name": "python",
   "nbconvert_exporter": "python",
   "pygments_lexer": "ipython3",
   "version": "3.12.3"
  }
 },
 "nbformat": 4,
 "nbformat_minor": 2
}
