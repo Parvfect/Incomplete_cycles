{
 "cells": [
  {
   "cell_type": "code",
   "execution_count": 2,
   "metadata": {},
   "outputs": [
    {
     "name": "stdout",
     "output_type": "stream",
     "text": [
      "^C\n"
     ]
    },
    {
     "name": "stderr",
     "output_type": "stream",
     "text": [
      "DEPRECATION: Loading egg at c:\\users\\parv\\anaconda3\\envs\\pytorch_gpu\\lib\\site-packages\\ont_bonito-0.8.1-py3.12.egg is deprecated. pip 24.3 will enforce this behaviour change. A possible replacement is to use pip for package installation.. Discussion can be found at https://github.com/pypa/pip/issues/12330\n"
     ]
    },
    {
     "name": "stdout",
     "output_type": "stream",
     "text": [
      "Collecting scikit-bio\n",
      "  Using cached scikit-bio-0.6.3.tar.gz (5.4 MB)\n",
      "  Installing build dependencies: started\n",
      "  Installing build dependencies: finished with status 'done'\n",
      "  Getting requirements to build wheel: started\n",
      "  Getting requirements to build wheel: finished with status 'done'\n",
      "  Preparing metadata (pyproject.toml): started\n",
      "  Preparing metadata (pyproject.toml): finished with status 'done'\n",
      "Requirement already satisfied: requests>=2.20.0 in c:\\users\\parv\\anaconda3\\envs\\pytorch_gpu\\lib\\site-packages (from scikit-bio) (2.32.2)\n",
      "Requirement already satisfied: decorator>=3.4.2 in c:\\users\\parv\\anaconda3\\envs\\pytorch_gpu\\lib\\site-packages (from scikit-bio) (5.1.1)\n",
      "Collecting natsort>=4.0.3 (from scikit-bio)\n",
      "  Using cached natsort-8.4.0-py3-none-any.whl.metadata (21 kB)\n",
      "Requirement already satisfied: numpy>=1.17.0 in c:\\users\\parv\\anaconda3\\envs\\pytorch_gpu\\lib\\site-packages (from scikit-bio) (2.1.2)\n",
      "Requirement already satisfied: pandas>=1.5.0 in c:\\users\\parv\\anaconda3\\envs\\pytorch_gpu\\lib\\site-packages (from scikit-bio) (2.2.3)\n",
      "Requirement already satisfied: scipy>=1.9.0 in c:\\users\\parv\\anaconda3\\envs\\pytorch_gpu\\lib\\site-packages (from scikit-bio) (1.13.1)\n",
      "Requirement already satisfied: h5py>=3.6.0 in c:\\users\\parv\\anaconda3\\envs\\pytorch_gpu\\lib\\site-packages (from scikit-bio) (3.11.0)\n",
      "Collecting biom-format>=2.1.16 (from scikit-bio)\n",
      "  Using cached biom-format-2.1.16.tar.gz (11.7 MB)\n",
      "  Installing build dependencies: started\n",
      "  Installing build dependencies: finished with status 'done'\n",
      "  Getting requirements to build wheel: started\n",
      "  Getting requirements to build wheel: finished with status 'done'\n",
      "  Preparing metadata (pyproject.toml): started\n",
      "  Preparing metadata (pyproject.toml): finished with status 'done'\n",
      "Collecting statsmodels>=0.14.0 (from scikit-bio)\n",
      "  Using cached statsmodels-0.14.4-cp312-cp312-win_amd64.whl.metadata (9.5 kB)\n",
      "Collecting patsy>=0.5.0 (from scikit-bio)\n",
      "  Using cached patsy-1.0.1-py2.py3-none-any.whl.metadata (3.3 kB)\n",
      "Requirement already satisfied: click in c:\\users\\parv\\anaconda3\\envs\\pytorch_gpu\\lib\\site-packages (from biom-format>=2.1.16->scikit-bio) (8.1.8)\n",
      "Requirement already satisfied: python-dateutil>=2.8.2 in c:\\users\\parv\\anaconda3\\envs\\pytorch_gpu\\lib\\site-packages (from pandas>=1.5.0->scikit-bio) (2.9.0.post0)\n",
      "Requirement already satisfied: pytz>=2020.1 in c:\\users\\parv\\anaconda3\\envs\\pytorch_gpu\\lib\\site-packages (from pandas>=1.5.0->scikit-bio) (2024.1)\n",
      "Requirement already satisfied: tzdata>=2022.7 in c:\\users\\parv\\anaconda3\\envs\\pytorch_gpu\\lib\\site-packages (from pandas>=1.5.0->scikit-bio) (2024.1)\n",
      "Requirement already satisfied: charset-normalizer<4,>=2 in c:\\users\\parv\\anaconda3\\envs\\pytorch_gpu\\lib\\site-packages (from requests>=2.20.0->scikit-bio) (2.0.4)\n",
      "Requirement already satisfied: idna<4,>=2.5 in c:\\users\\parv\\anaconda3\\envs\\pytorch_gpu\\lib\\site-packages (from requests>=2.20.0->scikit-bio) (3.7)\n",
      "Requirement already satisfied: urllib3<3,>=1.21.1 in c:\\users\\parv\\anaconda3\\envs\\pytorch_gpu\\lib\\site-packages (from requests>=2.20.0->scikit-bio) (2.2.1)\n",
      "Requirement already satisfied: certifi>=2017.4.17 in c:\\users\\parv\\anaconda3\\envs\\pytorch_gpu\\lib\\site-packages (from requests>=2.20.0->scikit-bio) (2024.8.30)\n",
      "Requirement already satisfied: packaging>=21.3 in c:\\users\\parv\\anaconda3\\envs\\pytorch_gpu\\lib\\site-packages (from statsmodels>=0.14.0->scikit-bio) (24.0)\n",
      "Requirement already satisfied: six>=1.5 in c:\\users\\parv\\anaconda3\\envs\\pytorch_gpu\\lib\\site-packages (from python-dateutil>=2.8.2->pandas>=1.5.0->scikit-bio) (1.16.0)\n",
      "Requirement already satisfied: colorama in c:\\users\\parv\\anaconda3\\envs\\pytorch_gpu\\lib\\site-packages (from click->biom-format>=2.1.16->scikit-bio) (0.4.6)\n",
      "Using cached natsort-8.4.0-py3-none-any.whl (38 kB)\n",
      "Using cached patsy-1.0.1-py2.py3-none-any.whl (232 kB)\n",
      "Using cached statsmodels-0.14.4-cp312-cp312-win_amd64.whl (9.8 MB)\n",
      "Building wheels for collected packages: scikit-bio, biom-format\n",
      "  Building wheel for scikit-bio (pyproject.toml): started\n",
      "  Building wheel for scikit-bio (pyproject.toml): finished with status 'done'\n",
      "  Created wheel for scikit-bio: filename=scikit_bio-0.6.3-cp312-cp312-win_amd64.whl size=4838462 sha256=8847e6bc79f239847457d6b157ca5274303e6323dcf4b8be96db43a6766b4a01\n",
      "  Stored in directory: c:\\users\\parv\\appdata\\local\\pip\\cache\\wheels\\dc\\23\\4a\\50f02385726305b0eb440ea53858194487fb65ea72bddad260\n",
      "  Building wheel for biom-format (pyproject.toml): started\n",
      "  Building wheel for biom-format (pyproject.toml): finished with status 'done'\n",
      "  Created wheel for biom-format: filename=biom_format-2.1.16-cp312-cp312-win_amd64.whl size=11789006 sha256=d6e39767fd25fd0771288d5a33824e77f5060783b720b0d02ebc368b51d426b9\n",
      "  Stored in directory: c:\\users\\parv\\appdata\\local\\pip\\cache\\wheels\\93\\a7\\8f\\ef0678464a98580620aaf1f625fb602e2d1cf2b59bfca44524\n",
      "Successfully built scikit-bio biom-format\n",
      "Installing collected packages: patsy, natsort, statsmodels, biom-format, scikit-bio\n",
      "Successfully installed biom-format-2.1.16 natsort-8.4.0 patsy-1.0.1 scikit-bio-0.6.3 statsmodels-0.14.4\n"
     ]
    }
   ],
   "source": [
    "!pip install scikit-bio\n",
    "import nltk"
   ]
  },
  {
   "cell_type": "code",
   "execution_count": 3,
   "metadata": {},
   "outputs": [],
   "source": [
    "from Bio import SeqIO\n",
    "from seq_stat import align\n",
    "from tqdm.notebook import tqdm\n",
    "import pandas as pd\n",
    "import numpy as np\n",
    "#from aligned_clustering import conduct_align_clustering\n",
    "from utils import get_original_strands, read_synthesized_strands_from_file, get_recovery_percentage, create_random_strand\n",
    "import random\n",
    "import uuid\n",
    "import json\n",
    "\n",
    "%load_ext autoreload\n",
    "%autoreload 2"
   ]
  },
  {
   "cell_type": "code",
   "execution_count": 4,
   "metadata": {},
   "outputs": [],
   "source": [
    "\n",
    "original_strands = get_original_strands(\n",
    "    original_strand_filepath=r\"C:\\Users\\Parv\\Doc\\RA\\Projects\\incomplete_cycles\\data\\0.8_badread\\original_strands.txt\",\n",
    "    plain=True)\n",
    "\n",
    "with open(r\"C:\\Users\\Parv\\Doc\\RA\\Projects\\incomplete_cycles\\data\\0.8_badread\\recoveries_455e44d8-7f89-4dc3-8ca7-499b2f0e33d6.json\", 'r') as f:\n",
    "    recoveries = json.load(f)\n",
    "\n",
    "candidates = recoveries['candidates']"
   ]
  },
  {
   "cell_type": "markdown",
   "metadata": {},
   "source": [
    "Let us fix it for a single strand - first aligned recovery - unique set of candidates please"
   ]
  },
  {
   "cell_type": "code",
   "execution_count": 5,
   "metadata": {},
   "outputs": [
    {
     "data": {
      "application/vnd.jupyter.widget-view+json": {
       "model_id": "84045681331543a9ac48fbae22405598",
       "version_major": 2,
       "version_minor": 0
      },
      "text/plain": [
       "  0%|          | 0/10 [00:00<?, ?it/s]"
      ]
     },
     "metadata": {},
     "output_type": "display_data"
    },
    {
     "data": {
      "application/vnd.jupyter.widget-view+json": {
       "model_id": "44f074d16585487a848f1d040b7dd959",
       "version_major": 2,
       "version_minor": 0
      },
      "text/plain": [
       "  0%|          | 0/26241 [00:00<?, ?it/s]"
      ]
     },
     "metadata": {},
     "output_type": "display_data"
    },
    {
     "name": "stdout",
     "output_type": "stream",
     "text": [
      "Best recovery protected strand post alignment - 1.0\n",
      "Best recovery control post alignment - 0.782608695652174\n"
     ]
    },
    {
     "data": {
      "application/vnd.jupyter.widget-view+json": {
       "model_id": "ab57fef27a6641eeb6769818478771dc",
       "version_major": 2,
       "version_minor": 0
      },
      "text/plain": [
       "  0%|          | 0/26241 [00:00<?, ?it/s]"
      ]
     },
     "metadata": {},
     "output_type": "display_data"
    },
    {
     "name": "stdout",
     "output_type": "stream",
     "text": [
      "Best recovery protected strand post alignment - 1.0\n",
      "Best recovery control post alignment - 0.8260869565217391\n"
     ]
    },
    {
     "data": {
      "application/vnd.jupyter.widget-view+json": {
       "model_id": "4c6e2921f7ba45ae97c9422dffb50b45",
       "version_major": 2,
       "version_minor": 0
      },
      "text/plain": [
       "  0%|          | 0/26241 [00:00<?, ?it/s]"
      ]
     },
     "metadata": {},
     "output_type": "display_data"
    },
    {
     "name": "stdout",
     "output_type": "stream",
     "text": [
      "Best recovery protected strand post alignment - 1.0\n",
      "Best recovery control post alignment - 0.7037037037037037\n"
     ]
    },
    {
     "data": {
      "application/vnd.jupyter.widget-view+json": {
       "model_id": "b1411064672f47098116c573666d0ffd",
       "version_major": 2,
       "version_minor": 0
      },
      "text/plain": [
       "  0%|          | 0/26241 [00:00<?, ?it/s]"
      ]
     },
     "metadata": {},
     "output_type": "display_data"
    },
    {
     "name": "stdout",
     "output_type": "stream",
     "text": [
      "Best recovery protected strand post alignment - 1.0\n",
      "Best recovery control post alignment - 0.782608695652174\n"
     ]
    },
    {
     "data": {
      "application/vnd.jupyter.widget-view+json": {
       "model_id": "76ee49877c12493c9240a3934033c063",
       "version_major": 2,
       "version_minor": 0
      },
      "text/plain": [
       "  0%|          | 0/26241 [00:00<?, ?it/s]"
      ]
     },
     "metadata": {},
     "output_type": "display_data"
    },
    {
     "name": "stdout",
     "output_type": "stream",
     "text": [
      "Best recovery protected strand post alignment - 1.0\n",
      "Best recovery control post alignment - 0.8636363636363636\n"
     ]
    },
    {
     "data": {
      "application/vnd.jupyter.widget-view+json": {
       "model_id": "07ecda7abc494275ba4951d976750d56",
       "version_major": 2,
       "version_minor": 0
      },
      "text/plain": [
       "  0%|          | 0/26241 [00:00<?, ?it/s]"
      ]
     },
     "metadata": {},
     "output_type": "display_data"
    },
    {
     "ename": "KeyboardInterrupt",
     "evalue": "",
     "output_type": "error",
     "traceback": [
      "\u001b[1;31m---------------------------------------------------------------------------\u001b[0m",
      "\u001b[1;31mKeyboardInterrupt\u001b[0m                         Traceback (most recent call last)",
      "Cell \u001b[1;32mIn[5], line 20\u001b[0m\n\u001b[0;32m     17\u001b[0m random_recs_local \u001b[38;5;241m=\u001b[39m []\n\u001b[0;32m     18\u001b[0m \u001b[38;5;28;01mfor\u001b[39;00m candidate \u001b[38;5;129;01min\u001b[39;00m tqdm(candidates):\n\u001b[1;32m---> 20\u001b[0m     aligned_strand, identity, indices \u001b[38;5;241m=\u001b[39m \u001b[43malign\u001b[49m\u001b[43m(\u001b[49m\u001b[43mseqA\u001b[49m\u001b[38;5;241;43m=\u001b[39;49m\u001b[43moriginal_strand\u001b[49m\u001b[43m[\u001b[49m\u001b[43mstart_indice\u001b[49m\u001b[43m:\u001b[49m\u001b[43mstart_indice\u001b[49m\u001b[43m \u001b[49m\u001b[38;5;241;43m+\u001b[39;49m\u001b[43m \u001b[49m\u001b[43mprotected_length\u001b[49m\u001b[43m]\u001b[49m\u001b[43m,\u001b[49m\u001b[43m \u001b[49m\u001b[43mseqB\u001b[49m\u001b[38;5;241;43m=\u001b[39;49m\u001b[43mcandidate\u001b[49m\u001b[43m)\u001b[49m\n\u001b[0;32m     21\u001b[0m     protected_recs_local\u001b[38;5;241m.\u001b[39mappend(identity)\n\u001b[0;32m     23\u001b[0m     \u001b[38;5;28;01mif\u001b[39;00m identity \u001b[38;5;241m>\u001b[39m best_recovery_protected:\n",
      "File \u001b[1;32mc:\\Users\\Parv\\Doc\\RA\\Projects\\incomplete_cycles\\v2\\seq_stat.py:234\u001b[0m, in \u001b[0;36malign\u001b[1;34m(seqA, seqB)\u001b[0m\n\u001b[0;32m    232\u001b[0m query_line \u001b[38;5;241m=\u001b[39m \u001b[38;5;124m\"\u001b[39m\u001b[38;5;124m\"\u001b[39m\u001b[38;5;241m.\u001b[39mjoin([line\u001b[38;5;241m.\u001b[39msplit(\u001b[38;5;124m\"\u001b[39m\u001b[38;5;124mquery\u001b[39m\u001b[38;5;124m\"\u001b[39m)[\u001b[38;5;241m1\u001b[39m] \u001b[38;5;28;01mfor\u001b[39;00m line \u001b[38;5;129;01min\u001b[39;00m alignment_lines \u001b[38;5;28;01mif\u001b[39;00m line\u001b[38;5;241m.\u001b[39mstrip()\u001b[38;5;241m.\u001b[39mstartswith(\u001b[38;5;124m\"\u001b[39m\u001b[38;5;124mquery\u001b[39m\u001b[38;5;124m\"\u001b[39m)])\n\u001b[0;32m    233\u001b[0m query \u001b[38;5;241m=\u001b[39m re\u001b[38;5;241m.\u001b[39msub(pattern, \u001b[38;5;124m\"\u001b[39m\u001b[38;5;124m\"\u001b[39m, query_line)\n\u001b[1;32m--> 234\u001b[0m identities \u001b[38;5;241m=\u001b[39m \u001b[43malignment\u001b[49m\u001b[38;5;241;43m.\u001b[39;49m\u001b[43mcounts\u001b[49m\u001b[43m(\u001b[49m\u001b[43m)\u001b[49m[\u001b[38;5;241m1\u001b[39m]\n\u001b[0;32m    235\u001b[0m mismatches \u001b[38;5;241m=\u001b[39m alignment\u001b[38;5;241m.\u001b[39mcounts()[\u001b[38;5;241m2\u001b[39m]\n\u001b[0;32m    236\u001b[0m length \u001b[38;5;241m=\u001b[39m alignment\u001b[38;5;241m.\u001b[39mlength\n",
      "File \u001b[1;32mc:\\Users\\Parv\\anaconda3\\envs\\pytorch_gpu\\Lib\\site-packages\\Bio\\Align\\__init__.py:3577\u001b[0m, in \u001b[0;36mAlignment.counts\u001b[1;34m(self)\u001b[0m\n\u001b[0;32m   3547\u001b[0m \u001b[38;5;250m\u001b[39m\u001b[38;5;124;03m\"\"\"Return number of identities, mismatches, and gaps of a pairwise alignment.\u001b[39;00m\n\u001b[0;32m   3548\u001b[0m \n\u001b[0;32m   3549\u001b[0m \u001b[38;5;124;03m>>> aligner = PairwiseAligner(mode='global', match_score=2, mismatch_score=-1)\u001b[39;00m\n\u001b[1;32m   (...)\u001b[0m\n\u001b[0;32m   3574\u001b[0m \u001b[38;5;124;03malignment.\u001b[39;00m\n\u001b[0;32m   3575\u001b[0m \u001b[38;5;124;03m\"\"\"\u001b[39;00m\n\u001b[0;32m   3576\u001b[0m gaps \u001b[38;5;241m=\u001b[39m identities \u001b[38;5;241m=\u001b[39m mismatches \u001b[38;5;241m=\u001b[39m \u001b[38;5;241m0\u001b[39m\n\u001b[1;32m-> 3577\u001b[0m \u001b[43m\u001b[49m\u001b[38;5;28;43;01mfor\u001b[39;49;00m\u001b[43m \u001b[49m\u001b[43mi\u001b[49m\u001b[43m,\u001b[49m\u001b[43m \u001b[49m\u001b[43mseq1\u001b[49m\u001b[43m \u001b[49m\u001b[38;5;129;43;01min\u001b[39;49;00m\u001b[43m \u001b[49m\u001b[38;5;28;43menumerate\u001b[39;49m\u001b[43m(\u001b[49m\u001b[38;5;28;43mself\u001b[39;49m\u001b[43m)\u001b[49m\u001b[43m:\u001b[49m\n\u001b[0;32m   3578\u001b[0m \u001b[43m    \u001b[49m\u001b[38;5;28;43;01mfor\u001b[39;49;00m\u001b[43m \u001b[49m\u001b[43mj\u001b[49m\u001b[43m,\u001b[49m\u001b[43m \u001b[49m\u001b[43mseq2\u001b[49m\u001b[43m \u001b[49m\u001b[38;5;129;43;01min\u001b[39;49;00m\u001b[43m \u001b[49m\u001b[38;5;28;43menumerate\u001b[39;49m\u001b[43m(\u001b[49m\u001b[38;5;28;43mself\u001b[39;49m\u001b[43m)\u001b[49m\u001b[43m:\u001b[49m\n\u001b[0;32m   3579\u001b[0m \u001b[43m        \u001b[49m\u001b[38;5;28;43;01mif\u001b[39;49;00m\u001b[43m \u001b[49m\u001b[43mi\u001b[49m\u001b[43m \u001b[49m\u001b[38;5;241;43m==\u001b[39;49m\u001b[43m \u001b[49m\u001b[43mj\u001b[49m\u001b[43m:\u001b[49m\n\u001b[0;32m   3580\u001b[0m \u001b[43m            \u001b[49m\u001b[38;5;66;43;03m# Don't count seq1 vs seq2 and seq2 vs seq1\u001b[39;49;00m\n",
      "File \u001b[1;32mc:\\Users\\Parv\\anaconda3\\envs\\pytorch_gpu\\Lib\\site-packages\\Bio\\Align\\__init__.py:2067\u001b[0m, in \u001b[0;36mAlignment.__getitem__\u001b[1;34m(self, key)\u001b[0m\n\u001b[0;32m   1967\u001b[0m \u001b[38;5;250m\u001b[39m\u001b[38;5;124;03m\"\"\"Return self[key].\u001b[39;00m\n\u001b[0;32m   1968\u001b[0m \n\u001b[0;32m   1969\u001b[0m \u001b[38;5;124;03mIndices of the form\u001b[39;00m\n\u001b[1;32m   (...)\u001b[0m\n\u001b[0;32m   2064\u001b[0m \u001b[38;5;124;03m<BLANKLINE>\u001b[39;00m\n\u001b[0;32m   2065\u001b[0m \u001b[38;5;124;03m\"\"\"\u001b[39;00m\n\u001b[0;32m   2066\u001b[0m \u001b[38;5;28;01mif\u001b[39;00m \u001b[38;5;28misinstance\u001b[39m(key, numbers\u001b[38;5;241m.\u001b[39mIntegral):\n\u001b[1;32m-> 2067\u001b[0m     \u001b[38;5;28;01mreturn\u001b[39;00m \u001b[38;5;28;43mself\u001b[39;49m\u001b[38;5;241;43m.\u001b[39;49m\u001b[43m_get_row\u001b[49m\u001b[43m(\u001b[49m\u001b[43mkey\u001b[49m\u001b[43m)\u001b[49m\n\u001b[0;32m   2068\u001b[0m \u001b[38;5;28;01mif\u001b[39;00m \u001b[38;5;28misinstance\u001b[39m(key, \u001b[38;5;28mslice\u001b[39m):\n\u001b[0;32m   2069\u001b[0m     \u001b[38;5;28;01mreturn\u001b[39;00m \u001b[38;5;28mself\u001b[39m\u001b[38;5;241m.\u001b[39m_get_rows(key)\n",
      "File \u001b[1;32mc:\\Users\\Parv\\anaconda3\\envs\\pytorch_gpu\\Lib\\site-packages\\Bio\\Align\\__init__.py:1609\u001b[0m, in \u001b[0;36mAlignment._get_row\u001b[1;34m(self, index)\u001b[0m\n\u001b[0;32m   1607\u001b[0m \u001b[38;5;28;01mfor\u001b[39;00m i \u001b[38;5;129;01min\u001b[39;00m \u001b[38;5;28mrange\u001b[39m(n):\n\u001b[0;32m   1608\u001b[0m     aligned_steps \u001b[38;5;241m=\u001b[39m steps[i, aligned]\n\u001b[1;32m-> 1609\u001b[0m     \u001b[38;5;28;01mif\u001b[39;00m \u001b[38;5;28;43msum\u001b[39;49m\u001b[43m(\u001b[49m\u001b[43maligned_steps\u001b[49m\u001b[43m \u001b[49m\u001b[38;5;241;43m>\u001b[39;49m\u001b[43m \u001b[49m\u001b[38;5;241;43m0\u001b[39;49m\u001b[43m)\u001b[49m \u001b[38;5;241m<\u001b[39m \u001b[38;5;28msum\u001b[39m(aligned_steps \u001b[38;5;241m<\u001b[39m \u001b[38;5;241m0\u001b[39m):\n\u001b[0;32m   1610\u001b[0m         steps[i, :] \u001b[38;5;241m=\u001b[39m \u001b[38;5;241m-\u001b[39msteps[i, :]\n\u001b[0;32m   1611\u001b[0m         \u001b[38;5;28;01mif\u001b[39;00m i \u001b[38;5;241m==\u001b[39m index:\n",
      "\u001b[1;31mKeyboardInterrupt\u001b[0m: "
     ]
    }
   ],
   "source": [
    "protected_length = 20\n",
    "original_strand = original_strands[0]\n",
    "\n",
    "best_recovery = 0.0\n",
    "\n",
    "best_recs_protected = []\n",
    "best_recs_control = []\n",
    "protected_recs = [[]]\n",
    "random_recs = [[]]\n",
    "\n",
    "for original_strand in tqdm(original_strands):\n",
    "    start_indice = random.randint(0,170)\n",
    "    random_strand = create_random_strand(strand_length=protected_length)\n",
    "    best_recovery_protected = 0.0\n",
    "    best_recovery_control = 0.0\n",
    "    protected_recs_local = []\n",
    "    random_recs_local = []\n",
    "    for candidate in tqdm(candidates):\n",
    "        \n",
    "        aligned_strand, identity, indices = align(seqA=original_strand[start_indice:start_indice + protected_length], seqB=candidate)\n",
    "        protected_recs_local.append(identity)\n",
    "\n",
    "        if identity > best_recovery_protected:\n",
    "            best_recovery_protected = identity\n",
    "\n",
    "        aligned_strand, identity, indices = align(seqA=random_strand, seqB=candidate)\n",
    "        random_recs_local.append(identity)\n",
    "\n",
    "        if identity > best_recovery_control:\n",
    "            best_recovery_control = identity\n",
    "\n",
    "    print(f\"Best recovery protected strand post alignment - {best_recovery_protected}\")\n",
    "    print(f\"Best recovery control post alignment - {best_recovery_control}\")\n",
    "    best_recs_protected.append(best_recovery_protected)\n",
    "    best_recs_control.append(best_recovery_control)\n",
    "    protected_recs.append(protected_recs_local)\n",
    "    random_recs.append(random_recs_local)"
   ]
  },
  {
   "cell_type": "markdown",
   "metadata": {},
   "source": [
    "Test for random collisions. First test how we do at recovering 20 bases at a time that are randomly alloted for each original strand. Repeat that a few times (just for the first five coupling rates). And then we think about random collisions. Maybe a part of the other strand, ah cause it will match a lot as well, so within the whole candidate pool, how would you know which is which?"
   ]
  },
  {
   "cell_type": "code",
   "execution_count": 53,
   "metadata": {},
   "outputs": [
    {
     "data": {
      "text/plain": [
       "(array([3.740e+02, 4.577e+03, 9.793e+03, 6.214e+03, 3.361e+03, 1.491e+03,\n",
       "        3.200e+02, 8.600e+01, 2.000e+01, 5.000e+00]),\n",
       " array([0.2247191 , 0.28141386, 0.33810861, 0.39480337, 0.45149813,\n",
       "        0.50819288, 0.56488764, 0.6215824 , 0.67827715, 0.73497191,\n",
       "        0.79166667]),\n",
       " <BarContainer object of 10 artists>)"
      ]
     },
     "execution_count": 53,
     "metadata": {},
     "output_type": "execute_result"
    },
    {
     "data": {
      "image/png": "[encoded data removed]",
      "text/plain": [
       "<Figure size 640x480 with 1 Axes>"
      ]
     },
     "metadata": {},
     "output_type": "display_data"
    }
   ],
   "source": [
    "import matplotlib.pyplot as plt\n",
    "\n",
    "plt.hist(protected_recs[1])\n",
    "plt.hist(random_recs[1])"
   ]
  },
  {
   "cell_type": "code",
   "execution_count": 65,
   "metadata": {},
   "outputs": [],
   "source": [
    "protected_recs_filtered = [i for i in protected_recs[1] if i > 0.70]\n",
    "control_recs_filtered = [i for i in random_recs[1] if i > 0.70]"
   ]
  },
  {
   "cell_type": "code",
   "execution_count": 66,
   "metadata": {},
   "outputs": [
    {
     "data": {
      "text/plain": [
       "<matplotlib.legend.Legend at 0x1d6f350b860>"
      ]
     },
     "execution_count": 66,
     "metadata": {},
     "output_type": "execute_result"
    },
    {
     "data": {
      "image/png": "[encoded data removed]",
      "text/plain": [
       "<Figure size 640x480 with 1 Axes>"
      ]
     },
     "metadata": {},
     "output_type": "display_data"
    }
   ],
   "source": [
    "plt.hist(protected_recs_filtered, label=\"protected strand\")\n",
    "plt.hist(control_recs_filtered, label=\"control strand\")\n",
    "plt.legend()"
   ]
  },
  {
   "cell_type": "code",
   "execution_count": 68,
   "metadata": {},
   "outputs": [],
   "source": [
    "# some metric here to compare to random strands - collision would not happen - we are actually seeing something useful\n",
    "# Indicator that yes - here is this thing, frequency of candidates - need to understand usecase.\n",
    "# Formalize and understand\n"
   ]
  },
  {
   "cell_type": "code",
   "execution_count": 69,
   "metadata": {},
   "outputs": [],
   "source": [
    "# % of candidates over threshold value for protected strand vs control - and then the average recovery of 1.0"
   ]
  },
  {
   "cell_type": "code",
   "execution_count": 32,
   "metadata": {},
   "outputs": [],
   "source": []
  },
  {
   "cell_type": "code",
   "execution_count": 30,
   "metadata": {},
   "outputs": [
    {
     "data": {
      "image/png": "[encoded data removed]",
      "text/plain": [
       "<Figure size 800x500 with 1 Axes>"
      ]
     },
     "metadata": {},
     "output_type": "display_data"
    }
   ],
   "source": [
    "import numpy as np\n",
    "import matplotlib.pyplot as plt\n",
    "\n",
    "\n",
    "# Define thresholds\n",
    "thresholds = np.linspace(67, np.max(protected_rec), 100)  # Create 100 threshold values from 0 to max\n",
    "\n",
    "# Calculate the percentage of values above each threshold\n",
    "percentages_control = [(np.sum(random_rec > t)) * 100 for t in thresholds]\n",
    "percentages_protected = [(np.sum(protected_rec > t)) * 100 for t in thresholds]\n",
    "\n",
    "# Plot the graph\n",
    "plt.figure(figsize=(8, 5))\n",
    "plt.plot(thresholds, percentages_control, label=\"Number of candidates > threshold control\")\n",
    "plt.plot(thresholds, percentages_protected, label=\"Percentage of values > threshold protected\")\n",
    "plt.xlabel(\"Recovery Percentage\")\n",
    "plt.ylabel(\"Number of Candidates\")\n",
    "plt.title(\"Number of Candidates per recovery percentage for protected vs random strand\")\n",
    "plt.grid()\n",
    "plt.legend()\n",
    "plt.show()"
   ]
  },
  {
   "cell_type": "code",
   "execution_count": null,
   "metadata": {},
   "outputs": [],
   "source": []
  },
  {
   "cell_type": "code",
   "execution_count": 46,
   "metadata": {},
   "outputs": [
    {
     "data": {
      "image/png": "[encoded data removed]",
      "text/plain": [
       "<Figure size 1000x600 with 1 Axes>"
      ]
     },
     "metadata": {},
     "output_type": "display_data"
    }
   ],
   "source": [
    "import numpy as np\n",
    "import matplotlib.pyplot as plt\n",
    "\n",
    "random_rec = [i * 100 for i in random_recs[1]]\n",
    "protected_rec = [i * 100 for i in protected_recs[1]]\n",
    "\n",
    "# Define bins for thresholds\n",
    "bins = np.linspace(50, max(np.max(random_rec), np.max(protected_rec)), 10)  # 10 bins\n",
    "\n",
    "# Calculate the count of candidates greater than each bin threshold\n",
    "counts_control = [np.sum(random_rec > t) for t in bins]\n",
    "counts_protected = [np.sum(protected_rec > t) for t in bins]\n",
    "\n",
    "# Define bar positions and width\n",
    "x = np.arange(len(bins))\n",
    "bar_width = 0.35\n",
    "\n",
    "# Plot bar chart\n",
    "plt.figure(figsize=(10, 6))\n",
    "plt.bar(x - bar_width / 2, counts_control, bar_width, label=\"Control Strand\", color=\"blue\", alpha=0.7)\n",
    "plt.bar(x + bar_width / 2, counts_protected, bar_width, label=\"Protected Strand\", color=\"orange\", alpha=0.7)\n",
    "\n",
    "# Label the plot\n",
    "plt.xlabel(\"Thresholds (Recovery Percentage)\")\n",
    "plt.ylabel(\"Number of Candidates\")\n",
    "plt.title(\"Number of Candidates per Recovery Percentage Threshold\")\n",
    "plt.xticks(x, [f\"{int(t)}\" for t in bins], rotation=45)\n",
    "plt.legend()\n",
    "plt.grid(axis='y', linestyle='--', alpha=0.7)\n",
    "\n",
    "# Show the plot\n",
    "plt.tight_layout()\n",
    "plt.show()\n"
   ]
  },
  {
   "cell_type": "code",
   "execution_count": 47,
   "metadata": {},
   "outputs": [
    {
     "data": {
      "text/plain": [
       "[0.782608695652174,\n",
       " 0.8260869565217391,\n",
       " 0.7037037037037037,\n",
       " 0.782608695652174,\n",
       " 0.8636363636363636]"
      ]
     },
     "execution_count": 47,
     "metadata": {},
     "output_type": "execute_result"
    }
   ],
   "source": [
    "np.mean()"
   ]
  },
  {
   "cell_type": "code",
   "execution_count": 48,
   "metadata": {},
   "outputs": [
    {
     "data": {
      "text/plain": [
       "[1.0, 1.0, 1.0, 1.0, 1.0]"
      ]
     },
     "execution_count": 48,
     "metadata": {},
     "output_type": "execute_result"
    }
   ],
   "source": [
    "best_recs_protected"
   ]
  },
  {
   "cell_type": "code",
   "execution_count": 52,
   "metadata": {},
   "outputs": [],
   "source": [
    "threshold_candidates_protected = [len([i for i in recs_pro if i > 0.75]) for recs_pro in protected_recs]\n",
    "threshold_candiates_control = [len([i for i in recs_con if i > 0.75]) for recs_con in random_recs]"
   ]
  },
  {
   "cell_type": "code",
   "execution_count": 53,
   "metadata": {},
   "outputs": [
    {
     "data": {
      "text/html": [
       "<div>\n",
       "<style scoped>\n",
       "    .dataframe tbody tr th:only-of-type {\n",
       "        vertical-align: middle;\n",
       "    }\n",
       "\n",
       "    .dataframe tbody tr th {\n",
       "        vertical-align: top;\n",
       "    }\n",
       "\n",
       "    .dataframe thead th {\n",
       "        text-align: right;\n",
       "    }\n",
       "</style>\n",
       "<table border=\"1\" class=\"dataframe\">\n",
       "  <thead>\n",
       "    <tr style=\"text-align: right;\">\n",
       "      <th></th>\n",
       "      <th>Best Recovery Protected</th>\n",
       "      <th>Best Recovery Control</th>\n",
       "      <th>Number of Threshold Candidates Protected</th>\n",
       "      <th>Number of Threshold Candidates Control</th>\n",
       "    </tr>\n",
       "  </thead>\n",
       "  <tbody>\n",
       "    <tr>\n",
       "      <th>0</th>\n",
       "      <td>1.0</td>\n",
       "      <td>0.782609</td>\n",
       "      <td>90.0</td>\n",
       "      <td>2.0</td>\n",
       "    </tr>\n",
       "    <tr>\n",
       "      <th>1</th>\n",
       "      <td>1.0</td>\n",
       "      <td>0.826087</td>\n",
       "      <td>64.0</td>\n",
       "      <td>11.0</td>\n",
       "    </tr>\n",
       "    <tr>\n",
       "      <th>2</th>\n",
       "      <td>1.0</td>\n",
       "      <td>0.703704</td>\n",
       "      <td>42.0</td>\n",
       "      <td>0.0</td>\n",
       "    </tr>\n",
       "    <tr>\n",
       "      <th>3</th>\n",
       "      <td>1.0</td>\n",
       "      <td>0.782609</td>\n",
       "      <td>104.0</td>\n",
       "      <td>6.0</td>\n",
       "    </tr>\n",
       "    <tr>\n",
       "      <th>4</th>\n",
       "      <td>1.0</td>\n",
       "      <td>0.863636</td>\n",
       "      <td>138.0</td>\n",
       "      <td>3.0</td>\n",
       "    </tr>\n",
       "  </tbody>\n",
       "</table>\n",
       "</div>"
      ],
      "text/plain": [
       "   Best Recovery Protected  Best Recovery Control  \\\n",
       "0                      1.0               0.782609   \n",
       "1                      1.0               0.826087   \n",
       "2                      1.0               0.703704   \n",
       "3                      1.0               0.782609   \n",
       "4                      1.0               0.863636   \n",
       "\n",
       "   Number of Threshold Candidates Protected  \\\n",
       "0                                      90.0   \n",
       "1                                      64.0   \n",
       "2                                      42.0   \n",
       "3                                     104.0   \n",
       "4                                     138.0   \n",
       "\n",
       "   Number of Threshold Candidates Control  \n",
       "0                                     2.0  \n",
       "1                                    11.0  \n",
       "2                                     0.0  \n",
       "3                                     6.0  \n",
       "4                                     3.0  "
      ]
     },
     "execution_count": 53,
     "metadata": {},
     "output_type": "execute_result"
    }
   ],
   "source": [
    "import pandas as pd\n",
    "\n",
    "\n",
    "pd.DataFrame(columns=['Best Recovery Protected', 'Best Recovery Control', 'Number of Threshold Candidates Protected', 'Number of Threshold Candidates Control'], data=np.array([best_recs_protected, best_recs_control, threshold_candidates_protected, threshold_candiates_control]).T)"
   ]
  },
  {
   "cell_type": "code",
   "execution_count": 54,
   "metadata": {},
   "outputs": [
    {
     "data": {
      "text/plain": [
       "26241"
      ]
     },
     "execution_count": 54,
     "metadata": {},
     "output_type": "execute_result"
    }
   ],
   "source": [
    "len(candidates)"
   ]
  },
  {
   "cell_type": "markdown",
   "metadata": {},
   "source": [
    "### Testing length of protected strand vs best recovery (fixing for one run)"
   ]
  },
  {
   "cell_type": "code",
   "execution_count": null,
   "metadata": {},
   "outputs": [],
   "source": [
    "original_strand = original_strands[0]"
   ]
  },
  {
   "cell_type": "code",
   "execution_count": 58,
   "metadata": {},
   "outputs": [
    {
     "data": {
      "application/vnd.jupyter.widget-view+json": {
       "model_id": "21922dcf819d47549a580c99ad4ef2e0",
       "version_major": 2,
       "version_minor": 0
      },
      "text/plain": [
       "  0%|          | 0/26241 [00:00<?, ?it/s]"
      ]
     },
     "metadata": {},
     "output_type": "display_data"
    },
    {
     "name": "stdout",
     "output_type": "stream",
     "text": [
      "Best recover for 20 is 1.0\n"
     ]
    },
    {
     "data": {
      "application/vnd.jupyter.widget-view+json": {
       "model_id": "f3ba714c97d04c02989875fa3fd3748e",
       "version_major": 2,
       "version_minor": 0
      },
      "text/plain": [
       "  0%|          | 0/26241 [00:00<?, ?it/s]"
      ]
     },
     "metadata": {},
     "output_type": "display_data"
    },
    {
     "name": "stdout",
     "output_type": "stream",
     "text": [
      "Best recover for 30 is 0.9666666666666667\n"
     ]
    },
    {
     "data": {
      "application/vnd.jupyter.widget-view+json": {
       "model_id": "f04a846893b64ee6abe5519817362d29",
       "version_major": 2,
       "version_minor": 0
      },
      "text/plain": [
       "  0%|          | 0/26241 [00:00<?, ?it/s]"
      ]
     },
     "metadata": {},
     "output_type": "display_data"
    },
    {
     "name": "stdout",
     "output_type": "stream",
     "text": [
      "Best recover for 40 is 0.925\n"
     ]
    },
    {
     "data": {
      "application/vnd.jupyter.widget-view+json": {
       "model_id": "0bb5c7704a2242d88a0e6081b8678bf9",
       "version_major": 2,
       "version_minor": 0
      },
      "text/plain": [
       "  0%|          | 0/26241 [00:00<?, ?it/s]"
      ]
     },
     "metadata": {},
     "output_type": "display_data"
    },
    {
     "name": "stdout",
     "output_type": "stream",
     "text": [
      "Best recover for 50 is 0.92\n"
     ]
    },
    {
     "data": {
      "application/vnd.jupyter.widget-view+json": {
       "model_id": "5e2b1233f22343429aebfdc025dd11f7",
       "version_major": 2,
       "version_minor": 0
      },
      "text/plain": [
       "  0%|          | 0/26241 [00:00<?, ?it/s]"
      ]
     },
     "metadata": {},
     "output_type": "display_data"
    },
    {
     "name": "stdout",
     "output_type": "stream",
     "text": [
      "Best recover for 60 is 0.9\n"
     ]
    },
    {
     "data": {
      "application/vnd.jupyter.widget-view+json": {
       "model_id": "a87dcb8253ae41c98e1371a9b1a9b9d1",
       "version_major": 2,
       "version_minor": 0
      },
      "text/plain": [
       "  0%|          | 0/26241 [00:00<?, ?it/s]"
      ]
     },
     "metadata": {},
     "output_type": "display_data"
    },
    {
     "name": "stdout",
     "output_type": "stream",
     "text": [
      "Best recover for 70 is 0.9\n"
     ]
    },
    {
     "data": {
      "application/vnd.jupyter.widget-view+json": {
       "model_id": "8c5f761672c14a7f98149e2a04f80260",
       "version_major": 2,
       "version_minor": 0
      },
      "text/plain": [
       "  0%|          | 0/26241 [00:00<?, ?it/s]"
      ]
     },
     "metadata": {},
     "output_type": "display_data"
    },
    {
     "name": "stdout",
     "output_type": "stream",
     "text": [
      "Best recover for 80 is 0.9506172839506173\n"
     ]
    },
    {
     "data": {
      "application/vnd.jupyter.widget-view+json": {
       "model_id": "c56703e6f7b546edb75fe8dc4f4e18ef",
       "version_major": 2,
       "version_minor": 0
      },
      "text/plain": [
       "  0%|          | 0/26241 [00:00<?, ?it/s]"
      ]
     },
     "metadata": {},
     "output_type": "display_data"
    },
    {
     "name": "stdout",
     "output_type": "stream",
     "text": [
      "Best recover for 90 is 0.8666666666666667\n"
     ]
    },
    {
     "data": {
      "application/vnd.jupyter.widget-view+json": {
       "model_id": "1f80f7f3f26541b2b6009e6d490a010e",
       "version_major": 2,
       "version_minor": 0
      },
      "text/plain": [
       "  0%|          | 0/26241 [00:00<?, ?it/s]"
      ]
     },
     "metadata": {},
     "output_type": "display_data"
    },
    {
     "name": "stdout",
     "output_type": "stream",
     "text": [
      "Best recover for 100 is 0.8627450980392157\n"
     ]
    },
    {
     "data": {
      "application/vnd.jupyter.widget-view+json": {
       "model_id": "fc4f19626874435da758f9c8c47fe6db",
       "version_major": 2,
       "version_minor": 0
      },
      "text/plain": [
       "  0%|          | 0/26241 [00:00<?, ?it/s]"
      ]
     },
     "metadata": {},
     "output_type": "display_data"
    },
    {
     "name": "stdout",
     "output_type": "stream",
     "text": [
      "Best recover for 110 is 0.8545454545454545\n"
     ]
    },
    {
     "data": {
      "application/vnd.jupyter.widget-view+json": {
       "model_id": "905941a2caeb4b4b94fd2f7cc3901e67",
       "version_major": 2,
       "version_minor": 0
      },
      "text/plain": [
       "  0%|          | 0/26241 [00:00<?, ?it/s]"
      ]
     },
     "metadata": {},
     "output_type": "display_data"
    },
    {
     "name": "stdout",
     "output_type": "stream",
     "text": [
      "Best recover for 120 is 0.8916666666666667\n"
     ]
    },
    {
     "data": {
      "application/vnd.jupyter.widget-view+json": {
       "model_id": "5ef234bcd7b247ea8a842e0255384ba0",
       "version_major": 2,
       "version_minor": 0
      },
      "text/plain": [
       "  0%|          | 0/26241 [00:00<?, ?it/s]"
      ]
     },
     "metadata": {},
     "output_type": "display_data"
    },
    {
     "name": "stdout",
     "output_type": "stream",
     "text": [
      "Best recover for 130 is 0.8625954198473282\n"
     ]
    },
    {
     "data": {
      "application/vnd.jupyter.widget-view+json": {
       "model_id": "c7e0cd0ff1de46b5b4fdded70b82aac5",
       "version_major": 2,
       "version_minor": 0
      },
      "text/plain": [
       "  0%|          | 0/26241 [00:00<?, ?it/s]"
      ]
     },
     "metadata": {},
     "output_type": "display_data"
    },
    {
     "name": "stdout",
     "output_type": "stream",
     "text": [
      "Best recover for 140 is 0.8642857142857143\n"
     ]
    },
    {
     "data": {
      "application/vnd.jupyter.widget-view+json": {
       "model_id": "5316c8b936e84b8f857412e957d6ffb8",
       "version_major": 2,
       "version_minor": 0
      },
      "text/plain": [
       "  0%|          | 0/26241 [00:00<?, ?it/s]"
      ]
     },
     "metadata": {},
     "output_type": "display_data"
    },
    {
     "name": "stdout",
     "output_type": "stream",
     "text": [
      "Best recover for 150 is 0.869281045751634\n"
     ]
    },
    {
     "data": {
      "application/vnd.jupyter.widget-view+json": {
       "model_id": "7f8eb83321d145e2b59425922a48ea3a",
       "version_major": 2,
       "version_minor": 0
      },
      "text/plain": [
       "  0%|          | 0/26241 [00:00<?, ?it/s]"
      ]
     },
     "metadata": {},
     "output_type": "display_data"
    },
    {
     "name": "stdout",
     "output_type": "stream",
     "text": [
      "Best recover for 160 is 0.85625\n"
     ]
    },
    {
     "data": {
      "application/vnd.jupyter.widget-view+json": {
       "model_id": "f4ac56d99e9945029b82f7702d578478",
       "version_major": 2,
       "version_minor": 0
      },
      "text/plain": [
       "  0%|          | 0/26241 [00:00<?, ?it/s]"
      ]
     },
     "metadata": {},
     "output_type": "display_data"
    },
    {
     "name": "stdout",
     "output_type": "stream",
     "text": [
      "Best recover for 170 is 0.847953216374269\n"
     ]
    },
    {
     "data": {
      "application/vnd.jupyter.widget-view+json": {
       "model_id": "56254f87fed74b7585a86e44f8dd5f79",
       "version_major": 2,
       "version_minor": 0
      },
      "text/plain": [
       "  0%|          | 0/26241 [00:00<?, ?it/s]"
      ]
     },
     "metadata": {},
     "output_type": "display_data"
    },
    {
     "name": "stdout",
     "output_type": "stream",
     "text": [
      "Best recover for 180 is 0.85\n"
     ]
    },
    {
     "data": {
      "application/vnd.jupyter.widget-view+json": {
       "model_id": "fbe24c5529f34f29b5e39d41366dbfcd",
       "version_major": 2,
       "version_minor": 0
      },
      "text/plain": [
       "  0%|          | 0/26241 [00:00<?, ?it/s]"
      ]
     },
     "metadata": {},
     "output_type": "display_data"
    },
    {
     "name": "stdout",
     "output_type": "stream",
     "text": [
      "Best recover for 190 is 0.8578947368421053\n"
     ]
    },
    {
     "ename": "ValueError",
     "evalue": "empty range in randrange(0, 0)",
     "output_type": "error",
     "traceback": [
      "\u001b[1;31m---------------------------------------------------------------------------\u001b[0m",
      "\u001b[1;31mValueError\u001b[0m                                Traceback (most recent call last)",
      "Cell \u001b[1;32mIn[58], line 7\u001b[0m\n\u001b[0;32m      4\u001b[0m lens \u001b[38;5;241m=\u001b[39m []\n\u001b[0;32m      6\u001b[0m \u001b[38;5;28;01mwhile\u001b[39;00m best_recovery \u001b[38;5;241m>\u001b[39m \u001b[38;5;241m0.6\u001b[39m:\n\u001b[1;32m----> 7\u001b[0m     start_indice \u001b[38;5;241m=\u001b[39m \u001b[43mrandom\u001b[49m\u001b[38;5;241;43m.\u001b[39;49m\u001b[43mrandint\u001b[49m\u001b[43m(\u001b[49m\u001b[38;5;241;43m0\u001b[39;49m\u001b[43m,\u001b[49m\u001b[43m \u001b[49m\u001b[38;5;28;43mlen\u001b[39;49m\u001b[43m(\u001b[49m\u001b[43moriginal_strand\u001b[49m\u001b[43m)\u001b[49m\u001b[43m \u001b[49m\u001b[38;5;241;43m-\u001b[39;49m\u001b[43m \u001b[49m\u001b[43mprotected_length\u001b[49m\u001b[43m \u001b[49m\u001b[38;5;241;43m-\u001b[39;49m\u001b[43m \u001b[49m\u001b[38;5;241;43m1\u001b[39;49m\u001b[43m)\u001b[49m\n\u001b[0;32m      8\u001b[0m     \u001b[38;5;28;01mfor\u001b[39;00m candidate \u001b[38;5;129;01min\u001b[39;00m tqdm(candidates):\n\u001b[0;32m      9\u001b[0m         aligned_strand, identity, indices \u001b[38;5;241m=\u001b[39m align(original_strand[start_indice: start_indice \u001b[38;5;241m+\u001b[39m protected_length], candidate)\n",
      "File \u001b[1;32mc:\\Users\\Parv\\anaconda3\\envs\\pytorch_gpu\\Lib\\random.py:336\u001b[0m, in \u001b[0;36mRandom.randint\u001b[1;34m(self, a, b)\u001b[0m\n\u001b[0;32m    332\u001b[0m \u001b[38;5;28;01mdef\u001b[39;00m \u001b[38;5;21mrandint\u001b[39m(\u001b[38;5;28mself\u001b[39m, a, b):\n\u001b[0;32m    333\u001b[0m \u001b[38;5;250m    \u001b[39m\u001b[38;5;124;03m\"\"\"Return random integer in range [a, b], including both end points.\u001b[39;00m\n\u001b[0;32m    334\u001b[0m \u001b[38;5;124;03m    \"\"\"\u001b[39;00m\n\u001b[1;32m--> 336\u001b[0m     \u001b[38;5;28;01mreturn\u001b[39;00m \u001b[38;5;28;43mself\u001b[39;49m\u001b[38;5;241;43m.\u001b[39;49m\u001b[43mrandrange\u001b[49m\u001b[43m(\u001b[49m\u001b[43ma\u001b[49m\u001b[43m,\u001b[49m\u001b[43m \u001b[49m\u001b[43mb\u001b[49m\u001b[38;5;241;43m+\u001b[39;49m\u001b[38;5;241;43m1\u001b[39;49m\u001b[43m)\u001b[49m\n",
      "File \u001b[1;32mc:\\Users\\Parv\\anaconda3\\envs\\pytorch_gpu\\Lib\\random.py:319\u001b[0m, in \u001b[0;36mRandom.randrange\u001b[1;34m(self, start, stop, step)\u001b[0m\n\u001b[0;32m    317\u001b[0m     \u001b[38;5;28;01mif\u001b[39;00m width \u001b[38;5;241m>\u001b[39m \u001b[38;5;241m0\u001b[39m:\n\u001b[0;32m    318\u001b[0m         \u001b[38;5;28;01mreturn\u001b[39;00m istart \u001b[38;5;241m+\u001b[39m \u001b[38;5;28mself\u001b[39m\u001b[38;5;241m.\u001b[39m_randbelow(width)\n\u001b[1;32m--> 319\u001b[0m     \u001b[38;5;28;01mraise\u001b[39;00m \u001b[38;5;167;01mValueError\u001b[39;00m(\u001b[38;5;124mf\u001b[39m\u001b[38;5;124m\"\u001b[39m\u001b[38;5;124mempty range in randrange(\u001b[39m\u001b[38;5;132;01m{\u001b[39;00mstart\u001b[38;5;132;01m}\u001b[39;00m\u001b[38;5;124m, \u001b[39m\u001b[38;5;132;01m{\u001b[39;00mstop\u001b[38;5;132;01m}\u001b[39;00m\u001b[38;5;124m)\u001b[39m\u001b[38;5;124m\"\u001b[39m)\n\u001b[0;32m    321\u001b[0m \u001b[38;5;66;03m# Non-unit step argument supplied.\u001b[39;00m\n\u001b[0;32m    322\u001b[0m \u001b[38;5;28;01mif\u001b[39;00m istep \u001b[38;5;241m>\u001b[39m \u001b[38;5;241m0\u001b[39m:\n",
      "\u001b[1;31mValueError\u001b[0m: empty range in randrange(0, 0)"
     ]
    }
   ],
   "source": [
    "\n",
    "\n",
    "protected_length = 20\n",
    "best_recovery = 0.605\n",
    "recs = []\n",
    "lens = []\n",
    "\n",
    "while best_recovery > 0.6:\n",
    "    start_indice = random.randint(0, len(original_strand) - protected_length - 1)\n",
    "    for candidate in tqdm(candidates):\n",
    "        aligned_strand, identity, indices = align(original_strand[start_indice: start_indice + protected_length], candidate)\n",
    "\n",
    "        if identity > best_recovery:\n",
    "            if identity > 0.95:\n",
    "                best_recovery = identity\n",
    "                break\n",
    "            best_recovery = identity\n",
    "    \n",
    "    if best_recovery == 0.605:\n",
    "        print(f\"Largest length = {protected_length}\")\n",
    "\n",
    "    \n",
    "    print(f\"Best recover for {protected_length} is {best_recovery}\")\n",
    "    recs.append(best_recovery)\n",
    "    lens.append(protected_length)\n",
    "\n",
    "    best_recovery = 0.605\n",
    "    protected_length += 10"
   ]
  },
  {
   "cell_type": "code",
   "execution_count": 67,
   "metadata": {},
   "outputs": [
    {
     "data": {
      "application/vnd.jupyter.widget-view+json": {
       "model_id": "aaeafd70b92e4575848a33d6e9fc6c52",
       "version_major": 2,
       "version_minor": 0
      },
      "text/plain": [
       "  0%|          | 0/26241 [00:00<?, ?it/s]"
      ]
     },
     "metadata": {},
     "output_type": "display_data"
    },
    {
     "name": "stdout",
     "output_type": "stream",
     "text": [
      "Best recovery for protected 20 is 1.0\n",
      "Threshold candidates protected 77\n",
      "Best recovery for control 20 is 0.8571428571428571\n",
      "Threshold candidates control 9\n",
      "\n"
     ]
    },
    {
     "data": {
      "application/vnd.jupyter.widget-view+json": {
       "model_id": "ebc5e99de0144b0ca006591c91511833",
       "version_major": 2,
       "version_minor": 0
      },
      "text/plain": [
       "  0%|          | 0/26241 [00:00<?, ?it/s]"
      ]
     },
     "metadata": {},
     "output_type": "display_data"
    },
    {
     "name": "stdout",
     "output_type": "stream",
     "text": [
      "Best recovery for protected 30 is 0.9666666666666667\n",
      "Threshold candidates protected 53\n",
      "Best recovery for control 30 is 0.6511627906976745\n",
      "Threshold candidates control 0\n",
      "\n"
     ]
    },
    {
     "data": {
      "application/vnd.jupyter.widget-view+json": {
       "model_id": "890a7f636ae2474095f17341e11e4918",
       "version_major": 2,
       "version_minor": 0
      },
      "text/plain": [
       "  0%|          | 0/26241 [00:00<?, ?it/s]"
      ]
     },
     "metadata": {},
     "output_type": "display_data"
    },
    {
     "name": "stdout",
     "output_type": "stream",
     "text": [
      "Best recovery for protected 40 is 0.925\n",
      "Threshold candidates protected 70\n",
      "Best recovery for control 40 is 0.605\n",
      "Threshold candidates control 0\n",
      "\n"
     ]
    },
    {
     "data": {
      "application/vnd.jupyter.widget-view+json": {
       "model_id": "2cbe69a6e2c64068801b48d9e73586d5",
       "version_major": 2,
       "version_minor": 0
      },
      "text/plain": [
       "  0%|          | 0/26241 [00:00<?, ?it/s]"
      ]
     },
     "metadata": {},
     "output_type": "display_data"
    },
    {
     "name": "stdout",
     "output_type": "stream",
     "text": [
      "Best recovery for protected 50 is 0.9038461538461539\n",
      "Threshold candidates protected 60\n",
      "Best recovery for control 50 is 0.605\n",
      "Threshold candidates control 0\n",
      "\n"
     ]
    },
    {
     "data": {
      "application/vnd.jupyter.widget-view+json": {
       "model_id": "c273d83f9e8942c39ca50d0da7c36404",
       "version_major": 2,
       "version_minor": 0
      },
      "text/plain": [
       "  0%|          | 0/26241 [00:00<?, ?it/s]"
      ]
     },
     "metadata": {},
     "output_type": "display_data"
    },
    {
     "name": "stdout",
     "output_type": "stream",
     "text": [
      "Best recovery for protected 60 is 0.9016393442622951\n",
      "Threshold candidates protected 71\n",
      "Best recovery for control 60 is 0.605\n",
      "Threshold candidates control 0\n",
      "\n"
     ]
    },
    {
     "data": {
      "application/vnd.jupyter.widget-view+json": {
       "model_id": "fc6f96ad8b0741d5bbf795e21f4cf7d9",
       "version_major": 2,
       "version_minor": 0
      },
      "text/plain": [
       "  0%|          | 0/26241 [00:00<?, ?it/s]"
      ]
     },
     "metadata": {},
     "output_type": "display_data"
    },
    {
     "name": "stdout",
     "output_type": "stream",
     "text": [
      "Best recovery for protected 70 is 0.8857142857142857\n",
      "Threshold candidates protected 78\n",
      "Best recovery for control 70 is 0.605\n",
      "Threshold candidates control 0\n",
      "\n"
     ]
    },
    {
     "data": {
      "application/vnd.jupyter.widget-view+json": {
       "model_id": "1d2d40ad6bb74a9e8800228e71962703",
       "version_major": 2,
       "version_minor": 0
      },
      "text/plain": [
       "  0%|          | 0/26241 [00:00<?, ?it/s]"
      ]
     },
     "metadata": {},
     "output_type": "display_data"
    },
    {
     "ename": "KeyboardInterrupt",
     "evalue": "",
     "output_type": "error",
     "traceback": [
      "\u001b[1;31m---------------------------------------------------------------------------\u001b[0m",
      "\u001b[1;31mKeyboardInterrupt\u001b[0m                         Traceback (most recent call last)",
      "Cell \u001b[1;32mIn[67], line 31\u001b[0m\n\u001b[0;32m     28\u001b[0m         threshold_p \u001b[38;5;241m+\u001b[39m\u001b[38;5;241m=\u001b[39m\u001b[38;5;241m1\u001b[39m\n\u001b[0;32m     30\u001b[0m \u001b[38;5;28;01mif\u001b[39;00m control_flag:\n\u001b[1;32m---> 31\u001b[0m     aligned_strand, identity, indices \u001b[38;5;241m=\u001b[39m \u001b[43malign\u001b[49m\u001b[43m(\u001b[49m\u001b[43mrandom_strand\u001b[49m\u001b[43m,\u001b[49m\u001b[43m \u001b[49m\u001b[43mcandidate\u001b[49m\u001b[43m)\u001b[49m\n\u001b[0;32m     33\u001b[0m     \u001b[38;5;28;01mif\u001b[39;00m identity \u001b[38;5;241m>\u001b[39m best_recovery_control:\n\u001b[0;32m     34\u001b[0m         best_recovery_control \u001b[38;5;241m=\u001b[39m identity\n",
      "File \u001b[1;32mc:\\Users\\Parv\\Doc\\RA\\Projects\\incomplete_cycles\\v2\\seq_stat.py:236\u001b[0m, in \u001b[0;36malign\u001b[1;34m(seqA, seqB)\u001b[0m\n\u001b[0;32m    234\u001b[0m identities \u001b[38;5;241m=\u001b[39m alignment\u001b[38;5;241m.\u001b[39mcounts()[\u001b[38;5;241m1\u001b[39m]\n\u001b[0;32m    235\u001b[0m mismatches \u001b[38;5;241m=\u001b[39m alignment\u001b[38;5;241m.\u001b[39mcounts()[\u001b[38;5;241m2\u001b[39m]\n\u001b[1;32m--> 236\u001b[0m length \u001b[38;5;241m=\u001b[39m \u001b[43malignment\u001b[49m\u001b[38;5;241;43m.\u001b[39;49m\u001b[43mlength\u001b[49m\n\u001b[0;32m    238\u001b[0m \u001b[38;5;66;03m#return (alignment.format(), target, query, identities, mismatches, length)\u001b[39;00m\n\u001b[0;32m    239\u001b[0m \u001b[38;5;28;01mreturn\u001b[39;00m aligned_strand(alignment\u001b[38;5;241m.\u001b[39mindices, seqA, seqB), identities\u001b[38;5;241m/\u001b[39mlength, alignment\u001b[38;5;241m.\u001b[39mindices\n",
      "File \u001b[1;32mc:\\Users\\Parv\\anaconda3\\envs\\pytorch_gpu\\Lib\\site-packages\\Bio\\Align\\__init__.py:2705\u001b[0m, in \u001b[0;36mAlignment.length\u001b[1;34m(self)\u001b[0m\n\u001b[0;32m   2703\u001b[0m \u001b[38;5;28;01mfor\u001b[39;00m i \u001b[38;5;129;01min\u001b[39;00m \u001b[38;5;28mrange\u001b[39m(n):\n\u001b[0;32m   2704\u001b[0m     row \u001b[38;5;241m=\u001b[39m steps[i, aligned]\n\u001b[1;32m-> 2705\u001b[0m     \u001b[38;5;28;01mif\u001b[39;00m \u001b[43m(\u001b[49m\u001b[43mrow\u001b[49m\u001b[43m \u001b[49m\u001b[38;5;241;43m>\u001b[39;49m\u001b[38;5;241;43m=\u001b[39;49m\u001b[43m \u001b[49m\u001b[38;5;241;43m0\u001b[39;49m\u001b[43m)\u001b[49m\u001b[38;5;241;43m.\u001b[39;49m\u001b[43mall\u001b[49m\u001b[43m(\u001b[49m\u001b[43m)\u001b[49m:\n\u001b[0;32m   2706\u001b[0m         \u001b[38;5;28;01mpass\u001b[39;00m\n\u001b[0;32m   2707\u001b[0m     \u001b[38;5;28;01melif\u001b[39;00m (row \u001b[38;5;241m<\u001b[39m\u001b[38;5;241m=\u001b[39m \u001b[38;5;241m0\u001b[39m)\u001b[38;5;241m.\u001b[39mall():\n",
      "File \u001b[1;32mc:\\Users\\Parv\\anaconda3\\envs\\pytorch_gpu\\Lib\\site-packages\\numpy\\_core\\_methods.py:68\u001b[0m, in \u001b[0;36m_all\u001b[1;34m(a, axis, dtype, out, keepdims, where)\u001b[0m\n\u001b[0;32m     65\u001b[0m         \u001b[38;5;28;01mreturn\u001b[39;00m umr_any(a, axis, dtype, out, keepdims)\n\u001b[0;32m     66\u001b[0m     \u001b[38;5;28;01mreturn\u001b[39;00m umr_any(a, axis, dtype, out, keepdims, where\u001b[38;5;241m=\u001b[39mwhere)\n\u001b[1;32m---> 68\u001b[0m \u001b[38;5;28;01mdef\u001b[39;00m \u001b[38;5;21m_all\u001b[39m(a, axis\u001b[38;5;241m=\u001b[39m\u001b[38;5;28;01mNone\u001b[39;00m, dtype\u001b[38;5;241m=\u001b[39m\u001b[38;5;28;01mNone\u001b[39;00m, out\u001b[38;5;241m=\u001b[39m\u001b[38;5;28;01mNone\u001b[39;00m, keepdims\u001b[38;5;241m=\u001b[39m\u001b[38;5;28;01mFalse\u001b[39;00m, \u001b[38;5;241m*\u001b[39m, where\u001b[38;5;241m=\u001b[39m\u001b[38;5;28;01mTrue\u001b[39;00m):\n\u001b[0;32m     69\u001b[0m     \u001b[38;5;66;03m# By default, return a boolean for any and all\u001b[39;00m\n\u001b[0;32m     70\u001b[0m     \u001b[38;5;28;01mif\u001b[39;00m dtype \u001b[38;5;129;01mis\u001b[39;00m \u001b[38;5;28;01mNone\u001b[39;00m:\n\u001b[0;32m     71\u001b[0m         dtype \u001b[38;5;241m=\u001b[39m bool_dt\n",
      "\u001b[1;31mKeyboardInterrupt\u001b[0m: "
     ]
    }
   ],
   "source": [
    "protected_length = 20\n",
    "best_recovery = 0.605\n",
    "\n",
    "recs_p = []\n",
    "threshold_candidates_p = []\n",
    "\n",
    "recs_control = []\n",
    "threshold_candidates_control = []\n",
    "\n",
    "lens = []\n",
    "\n",
    "\n",
    "while best_recovery > 0.6 and protected_length < 200:\n",
    "\n",
    "    start_indice = random.randint(0, len(original_strand) - protected_length - 1)\n",
    "    control_flag, protected_flag = True, True\n",
    "    random_strand = create_random_strand(strand_length=protected_length)\n",
    "    threshold_p, threshold_c = 0, 0\n",
    "    for candidate in tqdm(candidates):\n",
    "        \n",
    "        if protected_flag:\n",
    "            aligned_strand, identity, indices = align(original_strand[start_indice: start_indice + protected_length], candidate)\n",
    "\n",
    "            if identity > best_recovery_protected:\n",
    "                best_recovery_protected = identity\n",
    "\n",
    "            if identity > 0.7:\n",
    "                threshold_p +=1\n",
    "\n",
    "        if control_flag:\n",
    "            aligned_strand, identity, indices = align(random_strand, candidate)\n",
    "\n",
    "            if identity > best_recovery_control:\n",
    "                best_recovery_control = identity\n",
    "            \n",
    "            if identity > 0.7:\n",
    "                threshold_c +=1\n",
    "    \n",
    "    print(f\"Best recovery for protected {protected_length} is {best_recovery_protected}\")\n",
    "    print(f\"Threshold candidates protected {threshold_p}\")\n",
    "    print(f\"Best recovery for control {protected_length} is {best_recovery_control}\")\n",
    "    print(f\"Threshold candidates control {threshold_c}\")\n",
    "    print()\n",
    "\n",
    "    recs_p.append(best_recovery_protected)\n",
    "    recs_control.append(best_recovery_control)\n",
    "    lens.append(protected_length)\n",
    "\n",
    "    threshold_candidates_p.append(threshold_p)\n",
    "    threshold_candidates_control.append(threshold_c)\n",
    "\n",
    "    best_recovery_protected = 0.605\n",
    "    best_recovery_control = 0.605\n",
    "    protected_length += 10"
   ]
  },
  {
   "cell_type": "code",
   "execution_count": 92,
   "metadata": {},
   "outputs": [
    {
     "data": {
      "text/plain": [
       "(0.0, 1.1)"
      ]
     },
     "execution_count": 92,
     "metadata": {},
     "output_type": "execute_result"
    },
    {
     "data": {
      "image/png": "[encoded data removed]",
      "text/plain": [
       "<Figure size 640x480 with 1 Axes>"
      ]
     },
     "metadata": {},
     "output_type": "display_data"
    }
   ],
   "source": [
    "plt.plot(lens, recs_p, marker='o',label=\"Protected information\")\n",
    "plt.plot(lens, recs_control, marker='v', label=\"Random collisions\")\n",
    "plt.xlabel(\"Length of Protected infromation (nt)\")\n",
    "plt.ylabel(\"Best recovery rate\")\n",
    "plt.legend()\n",
    "plt.grid()\n",
    "plt.ylim(0, 1.1)\n"
   ]
  },
  {
   "cell_type": "code",
   "execution_count": null,
   "metadata": {},
   "outputs": [],
   "source": []
  }
 ],
 "metadata": {
  "kernelspec": {
   "display_name": "pytorch_gpu",
   "language": "python",
   "name": "python3"
  },
  "language_info": {
   "codemirror_mode": {
    "name": "ipython",
    "version": 3
   },
   "file_extension": ".py",
   "mimetype": "text/x-python",
   "name": "python",
   "nbconvert_exporter": "python",
   "pygments_lexer": "ipython3",
   "version": "3.12.3"
  }
 },
 "nbformat": 4,
 "nbformat_minor": 2
}
