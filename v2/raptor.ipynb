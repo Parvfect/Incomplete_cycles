{
 "cells": [
  {
   "cell_type": "code",
   "execution_count": 1,
   "metadata": {},
   "outputs": [],
   "source": [
    "%load_ext autoreload\n",
    "%autoreload 2"
   ]
  },
  {
   "cell_type": "code",
   "execution_count": 13,
   "metadata": {},
   "outputs": [],
   "source": [
    "from utils import load_json_file, read_fasta_data, get_recovery_percentage, get_aligned_identity\n",
    "from tqdm.notebook import tqdm\n",
    "import matplotlib.pyplot as plt\n",
    "from aligned_clustering import conduct_align_clustering\n",
    "import random\n",
    "import numpy as np\n",
    "from nltk import edit_distance"
   ]
  },
  {
   "cell_type": "code",
   "execution_count": 3,
   "metadata": {},
   "outputs": [],
   "source": [
    "# Loading the recoveries object\n",
    "recoveries = load_json_file(json_filepath=r\"C:\\Users\\Parv\\Doc\\RA\\Projects\\incomplete_cycles\\v2\\raptor_data\\recoveries_93cc38f3-720a-40b6-b644-8b600178a6d7.json\")"
   ]
  },
  {
   "cell_type": "code",
   "execution_count": 4,
   "metadata": {},
   "outputs": [],
   "source": [
    "# Loading the original strands\n",
    "original_strands = read_fasta_data(fasta_filepath=r\"C:\\Users\\Parv\\Doc\\RA\\Projects\\incomplete_cycles\\v2\\raptor_data\\cat.jpg_RU10.fasta\")[0]\n",
    "original_strand_length = len(original_strands[0])"
   ]
  },
  {
   "cell_type": "code",
   "execution_count": 5,
   "metadata": {},
   "outputs": [],
   "source": [
    "candidates = list(set(recoveries['candidates']))\n",
    "\n",
    "# In the first step, we are selecting the candidates that are of the right length\n",
    "candidates_of_strand_length = [candidate for candidate in candidates if len(candidate) ==  original_strand_length]"
   ]
  },
  {
   "cell_type": "code",
   "execution_count": 72,
   "metadata": {},
   "outputs": [],
   "source": [
    "\n",
    "\n",
    "def get_best_candidates_and_recoveries(original_strands, candidates):\n",
    "    \"\"\"\n",
    "    For a given set of strands, finds the best candidates and returns a dictionary with\n",
    "    the recoveries, the number of fully recovered strands, the best set of candidates and the\n",
    "    original strands\n",
    "    \"\"\"\n",
    "    \n",
    "    fully_recovered_strands = 0\n",
    "    recoveries = []\n",
    "    partially_recovered_recoveries = []\n",
    "    best_candidates = []\n",
    "\n",
    "    for strand in original_strands:\n",
    "        if strand in candidates:\n",
    "            fully_recovered_strands += 1\n",
    "            recoveries.append(1.0)\n",
    "            best_candidates.append(strand)\n",
    "        else:\n",
    "            best_recovery_within_candidates = 0.0\n",
    "            best_candidate = \"\"\n",
    "            for candidate in candidates:\n",
    "                strand_recovery = get_recovery_percentage(\n",
    "                    consensus_strand=candidate, original_strand=strand)\n",
    "\n",
    "                if strand_recovery > best_recovery_within_candidates:\n",
    "                    best_recovery_within_candidates = strand_recovery\n",
    "                    best_candidate = candidate\n",
    "\n",
    "            recoveries.append(best_recovery_within_candidates)\n",
    "            partially_recovered_recoveries.append(best_recovery_within_candidates)\n",
    "            best_candidates.append(best_candidate)\n",
    "\n",
    "    return {\n",
    "        \"recoveries\": recoveries,\n",
    "        \"fully_recovered_strands\": fully_recovered_strands,\n",
    "        \"partially_recovered_recoveries\": partially_recovered_recoveries,\n",
    "        \"best_candidates\": best_candidates,\n",
    "        \"original_strands\": original_strands\n",
    "    }\n"
   ]
  },
  {
   "cell_type": "code",
   "execution_count": 91,
   "metadata": {},
   "outputs": [
    {
     "name": "stderr",
     "output_type": "stream",
     "text": [
      "100%|██████████| 2957/2957 [00:20<00:00, 144.85it/s]\n"
     ]
    }
   ],
   "source": [
    "best_candidate_dict = get_best_candidates_and_recoveries(original_strands=list(set(candidates_of_strand_length)), candidates=original_strands)"
   ]
  },
  {
   "cell_type": "code",
   "execution_count": 93,
   "metadata": {},
   "outputs": [
    {
     "data": {
      "text/plain": [
       "(array([1615.,   35.,   27.,   20.,   18.,   39.,   26.,   33.,   18.,\n",
       "         396.]),\n",
       " array([0.328125  , 0.39479167, 0.46145833, 0.528125  , 0.59479167,\n",
       "        0.66145833, 0.728125  , 0.79479167, 0.86145833, 0.928125  ,\n",
       "        0.99479167]),\n",
       " <BarContainer object of 10 artists>)"
      ]
     },
     "execution_count": 93,
     "metadata": {},
     "output_type": "execute_result"
    },
    {
     "data": {
      "image/png": "[encoded data removed]",
      "text/plain": [
       "<Figure size 432x288 with 1 Axes>"
      ]
     },
     "metadata": {
      "needs_background": "light"
     },
     "output_type": "display_data"
    }
   ],
   "source": [
    "plt.hist(best_candidate_dict['partially_recovered_recoveries'])"
   ]
  },
  {
   "cell_type": "code",
   "execution_count": 113,
   "metadata": {},
   "outputs": [
    {
     "data": {
      "text/plain": [
       "2957"
      ]
     },
     "execution_count": 113,
     "metadata": {},
     "output_type": "execute_result"
    }
   ],
   "source": [
    "len(candidates_of_strand_length)"
   ]
  },
  {
   "cell_type": "code",
   "execution_count": 115,
   "metadata": {},
   "outputs": [
    {
     "name": "stderr",
     "output_type": "stream",
     "text": [
      "100%|██████████| 770/770 [00:01<00:00, 537.05it/s] \n"
     ]
    }
   ],
   "source": [
    "recoveries_dict = get_best_candidates_and_recoveries(original_strands, candidates_of_strand_length)"
   ]
  },
  {
   "cell_type": "code",
   "execution_count": 21,
   "metadata": {},
   "outputs": [
    {
     "data": {
      "application/vnd.jupyter.widget-view+json": {
       "model_id": "1c64a28f397745e3ae8d754685c33424",
       "version_major": 2,
       "version_minor": 0
      },
      "text/plain": [
       "  0%|          | 0/2957 [00:00<?, ?it/s]"
      ]
     },
     "metadata": {},
     "output_type": "display_data"
    }
   ],
   "source": [
    "\n",
    "grouped_candidates_by_strand = [[] for i in range(len(original_strands))]\n",
    "garbage_strands = []\n",
    "\n",
    "for candidate in tqdm(candidates_of_strand_length):\n",
    "    if candidate in original_strands:\n",
    "        grouped_candidates_by_strand[original_strands.index(candidate)].append(candidate)\n",
    "    else:\n",
    "        found_flag = False\n",
    "        for index, strand in enumerate(original_strands):\n",
    "            \n",
    "            recovery = get_recovery_percentage(candidate, strand)\n",
    "\n",
    "            if recovery > 0.8:\n",
    "                grouped_candidates_by_strand[index].append(candidate)\n",
    "                found_flag = True\n",
    "                break\n",
    "        \n",
    "        if not found_flag:\n",
    "            garbage_strands.append(candidate)\n"
   ]
  },
  {
   "cell_type": "code",
   "execution_count": 84,
   "metadata": {},
   "outputs": [],
   "source": [
    "candidate_groups = {}\n",
    "nbeg = 3\n",
    "\n",
    "for candidate in candidates_of_strand_length:\n",
    "    if candidate[:nbeg] in candidate_groups:\n",
    "        candidate_groups[candidate[:nbeg]].append(candidate)\n",
    "    else:\n",
    "        candidate_groups[candidate[:nbeg]] = [candidate]"
   ]
  },
  {
   "cell_type": "code",
   "execution_count": 85,
   "metadata": {},
   "outputs": [],
   "source": [
    "candidate_groups_ = candidate_groups.values()"
   ]
  },
  {
   "cell_type": "code",
   "execution_count": 86,
   "metadata": {},
   "outputs": [],
   "source": [
    "group_sizes = [len(i) for i in candidate_groups_]\n",
    "matched_groups = []\n",
    "\n",
    "for group in candidate_groups_:\n",
    "    for candidate in group:\n",
    "        if candidate in original_strands:\n",
    "            matched_groups.append(len(group))\n",
    "            break"
   ]
  }
 ],
 "metadata": {
  "kernelspec": {
   "display_name": "Python 3",
   "language": "python",
   "name": "python3"
  },
  "language_info": {
   "codemirror_mode": {
    "name": "ipython",
    "version": 3
   },
   "file_extension": ".py",
   "mimetype": "text/x-python",
   "name": "python",
   "nbconvert_exporter": "python",
   "pygments_lexer": "ipython3",
   "version": "3.9.2"
  }
 },
 "nbformat": 4,
 "nbformat_minor": 2
}
