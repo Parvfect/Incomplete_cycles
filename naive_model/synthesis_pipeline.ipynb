{
 "cells": [
  {
   "cell_type": "markdown",
   "metadata": {},
   "source": [
    "## Synthesis Pipeline\n",
    "\n",
    "Testing the Synthesis pipeline to make sure it is working as I expect it to "
   ]
  },
  {
   "cell_type": "code",
   "execution_count": 12,
   "metadata": {},
   "outputs": [],
   "source": [
    "\n",
    "synthesis_models = []\n",
    "\n",
    "# Parameters \n",
    "#coupling_rates = [0.9, 0.925, 0.95, 0.975, 0.99]\n",
    "coupling_rates = [0.99]\n",
    "sim_repeats = 1\n",
    "strand_repeats = 100000\n",
    "strand_length = 200\n"
   ]
  },
  {
   "cell_type": "code",
   "execution_count": 13,
   "metadata": {},
   "outputs": [],
   "source": [
    "\n",
    "from datetime import datetime\n",
    "import os\n",
    "\n",
    "# Initiating sim run data path\n",
    "timestamp = str(datetime.now()).replace(':', '.')\n",
    "preceeding_path = os.path.join('runs', timestamp)\n",
    "os.mkdir(preceeding_path)\n",
    "\n",
    "synthesized_strands_write_path = os.path.join(preceeding_path, 'synthesized.fasta')\n",
    "original_strand_write_path = os.path.join(preceeding_path, 'original_strands.txt')\n",
    "parameters_path = os.path.join(preceeding_path, 'parameters.txt')\n",
    "\n",
    "# Starting a new file\n",
    "with open(original_strand_write_path, 'w') as f:\n",
    "    f.write(\"\")\n",
    "\n",
    "with open(synthesized_strands_write_path, 'w') as f:\n",
    "    f.write(\"\")\n",
    "\n",
    "with open(parameters_path, 'w') as f:\n",
    "    f.write(f\"\\nRun on {timestamp}\\n\")\n",
    "    f.write(f\"Coupling Rates = {coupling_rates}\\n\")\n",
    "    f.write(f\"Simulation Repeats = {sim_repeats}\\n\")\n",
    "    f.write(f\"Strand repeats = {strand_repeats}\\n\")\n",
    "    f.write(f\"Strand length = {strand_length}\\n\")"
   ]
  },
  {
   "cell_type": "code",
   "execution_count": 14,
   "metadata": {},
   "outputs": [],
   "source": [
    "\n",
    "from synthesis import NaiveSynthesisModel\n",
    "\n",
    "# Creating all the synthesis models\n",
    "for coupling_rate in coupling_rates:\n",
    "    for _ in range(sim_repeats):\n",
    "        synthesis_models.append(NaiveSynthesisModel(\n",
    "            coupling_rate, strand_length=strand_length, repeats=strand_repeats, capping=True, write_file=False))\n",
    "\n",
    "        synthesis_models.append(NaiveSynthesisModel(\n",
    "            coupling_rate, strand_length=strand_length, repeats=strand_repeats, capping=False, write_file=False))"
   ]
  },
  {
   "cell_type": "markdown",
   "metadata": {},
   "source": [
    "### Writing original strands to the file"
   ]
  },
  {
   "cell_type": "code",
   "execution_count": 15,
   "metadata": {},
   "outputs": [],
   "source": [
    "# Get all the original strands and write them to the file\n",
    "for model in synthesis_models:\n",
    "    with open(original_strand_write_path, 'a') as f:\n",
    "        f.write(\n",
    "            f'{model.strand_id} {model.coupling_rate} {model.capping}\\n{model.strand}\\n\\n')"
   ]
  },
  {
   "cell_type": "markdown",
   "metadata": {},
   "source": [
    "### Writing Synthesized strands to the file"
   ]
  },
  {
   "cell_type": "code",
   "execution_count": 16,
   "metadata": {},
   "outputs": [
    {
     "name": "stderr",
     "output_type": "stream",
     "text": [
      "100%|██████████| 2/2 [00:14<00:00,  7.48s/it]\n"
     ]
    }
   ],
   "source": [
    "# Synthesise strands and write them\n",
    "from tqdm import tqdm\n",
    "\n",
    "synthesized_strands_arr = []\n",
    "\n",
    "for model in tqdm(synthesis_models):\n",
    "    synthesized_strands = model.simulate_synthesis(synthesized_strands_write_path)\n",
    "    strand_id = model.strand_id\n",
    "\n",
    "    \n",
    "    # So one file for each seperate model - about 20ish files\n",
    "    split_strands = [synthesized_strands[i:i + 9000] for i in range(0, len(synthesized_strands) - 9001, 9000)]\n",
    "    \n",
    "    for i, strands_ in enumerate(split_strands):  \n",
    "        write_path = os.path.join(preceeding_path, f'synthesized_{strand_id}_{i}.fasta')\n",
    "        with open(write_path, 'w') as f:\n",
    "            for strand in strands_:\n",
    "\n",
    "                if len(strand) < 100: # PBSim does not accept strands that are less than 100 bases long\n",
    "                    continue\n",
    "                f.write(f\">{strand_id}\\n\")\n",
    "                f.write(strand + '\\n\\n')"
   ]
  },
  {
   "cell_type": "markdown",
   "metadata": {},
   "source": [
    "### Validating Synthesis"
   ]
  },
  {
   "cell_type": "code",
   "execution_count": null,
   "metadata": {},
   "outputs": [],
   "source": [
    "strand_lengths_arr = [[len(i) for i in j] for j in synthesized_strands_arr]"
   ]
  },
  {
   "cell_type": "code",
   "execution_count": 55,
   "metadata": {},
   "outputs": [
    {
     "name": "stdout",
     "output_type": "stream",
     "text": [
      "3.883\n",
      "34\n",
      "4.48991213722496\n",
      "160.084\n",
      "175\n",
      "5.625739418067638\n",
      "5.509\n",
      "52\n",
      "6.274704694246575\n",
      "170.261\n",
      "185\n",
      "5.085162632600849\n",
      "9.008\n",
      "65\n",
      "9.274262019158183\n",
      "180.256\n",
      "193\n",
      "4.330180596695709\n",
      "19.248\n",
      "144\n",
      "19.492370199644782\n",
      "189.999\n",
      "199\n",
      "3.0677351580604215\n",
      "82.844\n",
      "200\n",
      "65.7524422664284\n",
      "197.964\n",
      "200\n",
      "1.4285321137447349\n"
     ]
    }
   ],
   "source": [
    "\n",
    "import matplotlib.pyplot as plt\n",
    "import numpy as np\n",
    "\n",
    "for i in strand_lengths_arr:\n",
    "    print(np.mean(i))\n",
    "    print(np.max(i))\n",
    "    print(np.std(i))\n",
    "\n"
   ]
  },
  {
   "cell_type": "markdown",
   "metadata": {},
   "source": [
    "## Running PBSim"
   ]
  },
  {
   "cell_type": "code",
   "execution_count": 6,
   "metadata": {},
   "outputs": [
    {
     "name": "stderr",
     "output_type": "stream",
     "text": [
      "'pbsim' is not recognized as an internal or external command,\n",
      "operable program or batch file.\n"
     ]
    }
   ],
   "source": [
    "!pbsim"
   ]
  },
  {
   "cell_type": "code",
   "execution_count": null,
   "metadata": {},
   "outputs": [],
   "source": []
  }
 ],
 "metadata": {
  "kernelspec": {
   "display_name": "Python 3",
   "language": "python",
   "name": "python3"
  },
  "language_info": {
   "codemirror_mode": {
    "name": "ipython",
    "version": 3
   },
   "file_extension": ".py",
   "mimetype": "text/x-python",
   "name": "python",
   "nbconvert_exporter": "python",
   "pygments_lexer": "ipython3",
   "version": "3.9.2"
  }
 },
 "nbformat": 4,
 "nbformat_minor": 2
}
