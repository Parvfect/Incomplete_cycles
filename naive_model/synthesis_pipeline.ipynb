{
 "cells": [
  {
   "cell_type": "markdown",
   "metadata": {},
   "source": [
    "## Synthesis Pipeline\n",
    "\n",
    "Testing the Synthesis pipeline to make sure it is working as I expect it to "
   ]
  },
  {
   "cell_type": "code",
   "execution_count": null,
   "metadata": {},
   "outputs": [],
   "source": [
    "\n",
    "synthesis_models = []\n",
    "\n",
    "# Parameters \n",
    "coupling_rates = [8, 8.5, 9, 9.5, 9.9]\n",
    "sim_repeats = 50\n",
    "strand_repeats = 1000\n",
    "strand_length = 200\n"
   ]
  },
  {
   "cell_type": "code",
   "execution_count": null,
   "metadata": {},
   "outputs": [
    {
     "data": {
      "text/plain": [
       "'2024-12-09 09:49:20.539013'"
      ]
     },
     "execution_count": 6,
     "metadata": {},
     "output_type": "execute_result"
    }
   ],
   "source": [
    "from datetime import datetime"
   ]
  },
  {
   "cell_type": "code",
   "execution_count": null,
   "metadata": {},
   "outputs": [],
   "source": [
    "\n",
    "from datetime import datetime\n",
    "import os\n",
    "\n",
    "timestamp = str(datetime.now()).replace(':', '.')\n",
    "preceeding_path = os.path.join('runs', timestamp)\n",
    "os.mkdir(preceeding_path)\n",
    "\n",
    "synthesized_strands_write_path = os.path.join(preceeding_path, 'synthesized.fasta')\n",
    "original_strand_write_path = os.path.join(preceeding_path, 'original_strands.txt')\n",
    "parameters_path = os.path.join(preceeding_path, 'parameters.txt')\n",
    "\n",
    "# Starting a new file\n",
    "with open(original_strand_write_path, 'w') as f:\n",
    "    f.write(\"\")\n",
    "\n",
    "with open(synthesized_strands_write_path, 'w') as f:\n",
    "    f.write(\"\")\n",
    "\n",
    "with open(parameters_path, 'w') as f:\n",
    "    f.write(f\"\\nRun on {timestamp}\\n\")\n",
    "    f.write(f\"Coupling Rates = {coupling_rates}\\n\")\n",
    "    f.write(f\"Simulation Repeats = {sim_repeats}\\n\")\n",
    "    f.write(f\"Strand repeats = {strand_repeats}\\n\")\n",
    "    f.write(f\"Strand length = {strand_length}\\n\")"
   ]
  },
  {
   "cell_type": "code",
   "execution_count": null,
   "metadata": {},
   "outputs": [],
   "source": []
  }
 ],
 "metadata": {
  "kernelspec": {
   "display_name": "Python 3",
   "language": "python",
   "name": "python3"
  },
  "language_info": {
   "codemirror_mode": {
    "name": "ipython",
    "version": 3
   },
   "file_extension": ".py",
   "mimetype": "text/x-python",
   "name": "python",
   "nbconvert_exporter": "python",
   "pygments_lexer": "ipython3",
   "version": "3.9.2"
  }
 },
 "nbformat": 4,
 "nbformat_minor": 2
}
