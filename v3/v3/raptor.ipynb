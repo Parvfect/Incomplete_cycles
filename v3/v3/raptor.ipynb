{
 "cells": [
  {
   "cell_type": "code",
   "execution_count": 7,
   "metadata": {},
   "outputs": [
    {
     "name": "stdout",
     "output_type": "stream",
     "text": [
      "The autoreload extension is already loaded. To reload it, use:\n",
      "  %reload_ext autoreload\n"
     ]
    }
   ],
   "source": [
    "%load_ext autoreload\n",
    "%autoreload 2"
   ]
  },
  {
   "cell_type": "code",
   "execution_count": 13,
   "metadata": {},
   "outputs": [],
   "source": [
    "from utils import read_synthesized_strands_from_file, sample_reads\n",
    "from clustering import Clustering\n",
    "import json"
   ]
  },
  {
   "cell_type": "code",
   "execution_count": 14,
   "metadata": {},
   "outputs": [],
   "source": [
    "\n",
    "original_strands, original_strand_ids = read_synthesized_strands_from_file(file_path=r\"C:\\Users\\Parv\\Doc\\RA\\Projects\\incomplete_cycles\\v2\\raptor_data\\cat.jpg_RU10 2.fasta\")\n",
    "\n",
    "with open(r'C:\\Users\\Parv\\Doc\\RA\\Projects\\incomplete_cycles\\v2\\raptor_data.json', 'r') as f:\n",
    "    read_dict = json.load(f)\n",
    "\n",
    "reads = read_dict['strands']\n",
    "ids = read_dict['ids']"
   ]
  },
  {
   "cell_type": "code",
   "execution_count": 15,
   "metadata": {},
   "outputs": [],
   "source": [
    "sampled_reads, sampled_ids = sample_reads(reads, ids, n_samples=10000)\n",
    "\n"
   ]
  },
  {
   "cell_type": "code",
   "execution_count": null,
   "metadata": {},
   "outputs": [],
   "source": [
    "clustering = Clustering(\n",
    "    strand_pool=reads, reference_length=len(original_strands[0]), original_strands=original_strands, strand_pool_ids=ids, original_strand_ids=original_strand_ids)"
   ]
  }
 ],
 "metadata": {
  "kernelspec": {
   "display_name": "pytorch_gpu",
   "language": "python",
   "name": "python3"
  },
  "language_info": {
   "codemirror_mode": {
    "name": "ipython",
    "version": 3
   },
   "file_extension": ".py",
   "mimetype": "text/x-python",
   "name": "python",
   "nbconvert_exporter": "python",
   "pygments_lexer": "ipython3",
   "version": "3.12.3"
  }
 },
 "nbformat": 4,
 "nbformat_minor": 2
}
